{
 "cells": [
  {
   "cell_type": "markdown",
   "metadata": {
    "colab_type": "text",
    "id": "view-in-github"
   },
   "source": [
    "<a href=\"https://colab.research.google.com/github/mrdbourke/tensorflow-deep-learning/blob/main/01_neural_network_regression_in_tensorflow.ipynb\" target=\"_parent\"><img src=\"https://colab.research.google.com/assets/colab-badge.svg\" alt=\"Open In Colab\"/></a>"
   ]
  },
  {
   "cell_type": "markdown",
   "metadata": {
    "id": "UPgo18-N1gSi"
   },
   "source": [
    "# Introduction to Regression with Neural Networks in TensorFlow Tutorial\n",
    "\n",
    "Definition of a [Regression Analysis](https://en.wikipedia.org/wiki/Regression_analysis)\n",
    "\n",
    "For example:\n",
    "- Predicting the selling price of houses given other features like number of rooms, size, number of bathrooms, number of bedrooms, etc.\n",
    "- Predicting the cost of medical insurance for an individual given their demographics (age, sex, gender, race).\n",
    "\n",
    "In this notebook, we're going to learn take a sample of inputs, build a neural network to discover patterns in those inputs and then make a prediction (in the form of a number) based on those inputs.\n",
    "\n",
    "## Contents:\n",
    "\n",
    "\n",
    "- Architecture of a regression model\n",
    "- Input shapes and output shapes\n",
    "  - `x`: features/varibles/Independant features (inputs)\n",
    "  - `y`: labels/target/depandant variable (outputs)\n",
    "- Creating custom data to view and fit\n",
    "- Steps in modelling\n",
    "  - Create a model\n",
    "  - Compile a model\n",
    "    - Defining a loss function\n",
    "    - Setting up an optimizer\n",
    "    - Creating evaluation metrics\n",
    "  - Fit a model (find patterns in our data)\n",
    "- Evaluate the model\n",
    "  - Visualize the model\n",
    "  - Look at the training curves\n",
    "  - Compare predictions to actuals/ground truth\n",
    "\n",
    "\n",
    "## How to use this notebook\n",
    "\n",
    "You can read through the descriptions and simply run the code (it should run without errors), but there's a better option.\n",
    "\n",
    "However, better option is for an hands on experience is to create a new notebook, and rewrite each code line by yourself. Investigate it, see if it fails and throws error. Learn why it fails."
   ]
  },
  {
   "cell_type": "markdown",
   "metadata": {
    "id": "etAu7oCZ8r_G"
   },
   "source": [
    "# Architecture of a Neural Network\n",
    "\n",
    "\n",
    "| **Hyperparameter** | **Typical value** |\n",
    "| --- | --- |\n",
    "| Input layer shape | Same shape as number of features (e.g. 3 for # bedrooms, # bathrooms, # car spaces in housing price prediction) |\n",
    "| Hidden layer(s) | Problem specific, minimum = 1, maximum = unlimited |\n",
    "| Neurons per hidden layer | Problem specific, generally 10 to 100 |\n",
    "| Output layer shape | Same shape as desired prediction shape (e.g. 1 for house price) |\n",
    "| Hidden activation | Usually [ReLU](https://www.kaggle.com/dansbecker/rectified-linear-units-relu-in-deep-learning) (rectified linear unit) |\n",
    "| Output activation | None, ReLU, logistic/tanh |\n",
    "| Loss function | [MSE](https://en.wikipedia.org/wiki/Mean_squared_error) (mean square error) or [MAE](https://en.wikipedia.org/wiki/Mean_absolute_error) (mean absolute error)/Huber (combination of MAE/MSE) if outliers |\n",
    "| Optimizer | [SGD](https://www.tensorflow.org/api_docs/python/tf/keras/optimizers/SGD) (stochastic gradient descent), [Adam](https://www.tensorflow.org/api_docs/python/tf/keras/optimizers/Adam) |\n"
   ]
  },
  {
   "cell_type": "markdown",
   "metadata": {},
   "source": [
    "    "
   ]
  },
  {
   "cell_type": "markdown",
   "metadata": {},
   "source": [
    "\n",
    "Note: **Hyperparameter** in machine learning is something a developer can set themselves. **Model Parameter** is something a model learns on its own (a value not explicitly set by the developer).\n",
    "\n"
   ]
  },
  {
   "cell_type": "code",
   "execution_count": 1,
   "metadata": {
    "colab": {
     "base_uri": "https://localhost:8080/"
    },
    "id": "FMqsqKpk7TrH",
    "outputId": "6da43491-def7-454c-895a-19564368972b"
   },
   "outputs": [
    {
     "name": "stderr",
     "output_type": "stream",
     "text": [
      "2023-11-13 17:44:55.084732: I tensorflow/core/platform/cpu_feature_guard.cc:193] This TensorFlow binary is optimized with oneAPI Deep Neural Network Library (oneDNN) to use the following CPU instructions in performance-critical operations:  AVX2 FMA\n",
      "To enable them in other operations, rebuild TensorFlow with the appropriate compiler flags.\n"
     ]
    },
    {
     "name": "stdout",
     "output_type": "stream",
     "text": [
      "2.11.0\n"
     ]
    }
   ],
   "source": [
    "import tensorflow as tf\n",
    "print(tf.__version__)"
   ]
  },
  {
   "cell_type": "markdown",
   "metadata": {
    "id": "8clMYxrF6Mzv"
   },
   "source": [
    "# Creating data to view and fit\n",
    "\n",
    "Since we're working on a **regression problem** (predicting a number) let's create some linear data to model."
   ]
  },
  {
   "cell_type": "code",
   "execution_count": 3,
   "metadata": {
    "colab": {
     "base_uri": "https://localhost:8080/",
     "height": 269
    },
    "id": "G43tWFof6i7T",
    "outputId": "b9a41b5e-1007-406d-801a-eeb9902e2526"
   },
   "outputs": [
    {
     "data": {
      "image/png": "[encoded data removed]",
      "text/plain": [
       "<Figure size 640x480 with 1 Axes>"
      ]
     },
     "metadata": {},
     "output_type": "display_data"
    }
   ],
   "source": [
    "import numpy as np\n",
    "import matplotlib.pyplot as plt\n",
    "\n",
    "# Create features\n",
    "x = np.array([-7.0, -4.0, -1.0, 2.0, 5.0, 8.0, 11.0, 14.0])\n",
    "\n",
    "# Create labels\n",
    "y = np.array([3.0, 6.0, 9.0, 12.0, 15.0, 18.0, 21.0, 24.0])\n",
    "\n",
    "# Visualize it\n",
    "plt.scatter(x, y);"
   ]
  },
  {
   "cell_type": "markdown",
   "metadata": {
    "id": "9ONZF8un7_xy"
   },
   "source": [
    "Before we do any modelling, can you find the pattern between `x` and `y`?\n",
    "\n",
    "For example, based on this data what will be the `y` value if `x` was 17?\n",
    "\n",
    "How about if `x` was -10?\n",
    "\n",
    "This kind of pattern discover is the essence of what we'll be building neural networks to do for us."
   ]
  },
  {
   "cell_type": "markdown",
   "metadata": {
    "id": "zNCXxHnF6jjZ"
   },
   "source": [
    "# Input shapes and output shapes\n",
    "\n",
    "One of the most important concepts when working with neural networks are the input and output shapes.\n",
    "\n",
    "The **input shape** is the shape of your data that goes into the model.\n",
    "\n",
    "The **output shape** is the shape of your data you want to come out of your model.\n",
    "\n",
    "These will differ depending on the problem you're working on.\n",
    "\n",
    "Neural networks accept numbers and output numbers. These numbers are typically represented as tensors (or arrays)."
   ]
  },
  {
   "cell_type": "code",
   "execution_count": 4,
   "metadata": {
    "colab": {
     "base_uri": "https://localhost:8080/"
    },
    "id": "XrXQ3m0prWXa",
    "outputId": "ca414725-d901-4bce-9444-933ec127092a"
   },
   "outputs": [
    {
     "name": "stderr",
     "output_type": "stream",
     "text": [
      "2023-11-13 17:52:26.255432: I tensorflow/core/platform/cpu_feature_guard.cc:193] This TensorFlow binary is optimized with oneAPI Deep Neural Network Library (oneDNN) to use the following CPU instructions in performance-critical operations:  AVX2 FMA\n",
      "To enable them in other operations, rebuild TensorFlow with the appropriate compiler flags.\n"
     ]
    },
    {
     "data": {
      "text/plain": [
       "(<tf.Tensor: shape=(3,), dtype=string, numpy=array([b'bedroom', b'bathroom', b'garage'], dtype=object)>,\n",
       " <tf.Tensor: shape=(1,), dtype=int32, numpy=array([939700], dtype=int32)>)"
      ]
     },
     "execution_count": 4,
     "metadata": {},
     "output_type": "execute_result"
    }
   ],
   "source": [
    "house_info = tf.constant([\"bedroom\", \"bathroom\", \"garage\"])\n",
    "house_price = tf.constant([939700])\n",
    "house_info, house_price"
   ]
  },
  {
   "cell_type": "code",
   "execution_count": 5,
   "metadata": {
    "colab": {
     "base_uri": "https://localhost:8080/"
    },
    "id": "Yi3VWKH6sRrZ",
    "outputId": "59dd3d1f-e6df-43e7-b692-b3ec69d634e1"
   },
   "outputs": [
    {
     "data": {
      "text/plain": [
       "TensorShape([3])"
      ]
     },
     "execution_count": 5,
     "metadata": {},
     "output_type": "execute_result"
    }
   ],
   "source": [
    "house_info.shape"
   ]
  },
  {
   "cell_type": "code",
   "execution_count": 8,
   "metadata": {
    "colab": {
     "base_uri": "https://localhost:8080/",
     "height": 269
    },
    "id": "kOxyr9sR6m9X",
    "outputId": "51c54bda-4e0f-41db-c9e9-d03d32cd89b4"
   },
   "outputs": [
    {
     "data": {
      "image/png": "[encoded data removed]",
      "text/plain": [
       "<Figure size 640x480 with 1 Axes>"
      ]
     },
     "metadata": {},
     "output_type": "display_data"
    }
   ],
   "source": [
    "import numpy as np\n",
    "import matplotlib.pyplot as plt\n",
    "\n",
    "# Create features (using tensors)\n",
    "x = tf.constant([-7.0, -4.0, -1.0, 2.0, 5.0, 8.0, 11.0, 14.0])\n",
    "\n",
    "# Create labels (using tensors)\n",
    "y = tf.constant([3.0, 6.0, 9.0, 12.0, 15.0, 18.0, 21.0, 24.0])\n",
    "\n",
    "# Visualize it\n",
    "plt.scatter(x, y);"
   ]
  },
  {
   "cell_type": "code",
   "execution_count": 10,
   "metadata": {
    "colab": {
     "base_uri": "https://localhost:8080/"
    },
    "id": "j1oT1gmB9iX-",
    "outputId": "1760be72-f1d4-43b1-c7a2-7eeac1009b93"
   },
   "outputs": [
    {
     "data": {
      "text/plain": [
       "<tf.Tensor: shape=(), dtype=float32, numpy=-7.0>"
      ]
     },
     "execution_count": 10,
     "metadata": {},
     "output_type": "execute_result"
    }
   ],
   "source": [
    "x[0]"
   ]
  },
  {
   "cell_type": "markdown",
   "metadata": {
    "id": "PhAIqjrn6olF"
   },
   "source": [
    "# Steps in Modelling\n",
    "\n",
    "In TensorFlow, there are typically 3 fundamental steps to creating and training a model.\n",
    "\n",
    "1. **Creating a model** - piece together the layers of a neural network yourself (using the [Functional](https://www.tensorflow.org/guide/keras/functional) or [Sequential API](https://www.tensorflow.org/api_docs/python/tf/keras/Sequential))\n",
    "2. **Compiling a model** - defining how a models performance should be measured (loss/metrics) as well as defining how it should improve (optimizer). \n",
    "3. **Fitting a model** - letting the model try to find patterns in the data (how does `x` relates to `y`). \n"
   ]
  },
  {
   "cell_type": "code",
   "execution_count": 13,
   "metadata": {
    "colab": {
     "base_uri": "https://localhost:8080/"
    },
    "id": "P9jj-OE16yCn",
    "outputId": "bc204319-5970-475c-cde0-bb589898e4d6"
   },
   "outputs": [],
   "source": [
    "# Set random seed to replicate results\n",
    "# tf.random.set_seed(42)\n",
    "\n",
    "# Create a model using the Sequential API\n",
    "model = tf.keras.Sequential([\n",
    "  tf.keras.layers.Dense(1)\n",
    "])"
   ]
  },
  {
   "cell_type": "markdown",
   "metadata": {},
   "source": [
    "\n",
    "> **Note:** If you're using [TensorFlow 2.7.0](https://github.com/tensorflow/tensorflow/releases/tag/v2.7.0)+, the `fit()` function no longer upscales input data to go from `(batch_size, )` to `(batch_size, 1)`. To fix this, you'll need to reshape the dimension of input data using `tf.reshape(x, (x.shape[0], 1))`.\n"
   ]
  },
  {
   "cell_type": "code",
   "execution_count": 30,
   "metadata": {},
   "outputs": [
    {
     "name": "stdout",
     "output_type": "stream",
     "text": [
      "Epoch 1/5\n",
      "1/1 [==============================] - 1s 503ms/step - loss: 8.4143 - mae: 8.4143\n",
      "Epoch 2/5\n",
      "1/1 [==============================] - 0s 19ms/step - loss: 8.2818 - mae: 8.2818\n",
      "Epoch 3/5\n",
      "1/1 [==============================] - 0s 16ms/step - loss: 8.1493 - mae: 8.1493\n",
      "Epoch 4/5\n",
      "1/1 [==============================] - 0s 19ms/step - loss: 8.0168 - mae: 8.0168\n",
      "Epoch 5/5\n",
      "1/1 [==============================] - 0s 18ms/step - loss: 7.8843 - mae: 7.8843\n"
     ]
    },
    {
     "data": {
      "text/plain": [
       "<keras.callbacks.History at 0x7fc77d55f550>"
      ]
     },
     "execution_count": 30,
     "metadata": {},
     "output_type": "execute_result"
    }
   ],
   "source": [
    "# Compile the model\n",
    "model.compile(loss=tf.keras.losses.mae, # mean absolute error\n",
    "              optimizer=tf.keras.optimizers.SGD(), # SGD stochastic gradient descent\n",
    "              metrics=[\"mae\"])\n",
    "\n",
    "\n",
    "x = tf.reshape(x, (x.shape[0], 1))\n",
    "\n",
    "# Fit the model\n",
    "model.fit(x, y, epochs=5)"
   ]
  },
  {
   "cell_type": "markdown",
   "metadata": {},
   "source": [
    "    "
   ]
  },
  {
   "cell_type": "code",
   "execution_count": 34,
   "metadata": {},
   "outputs": [
    {
     "data": {
      "text/plain": [
       "<tf.Tensor: shape=(1,), dtype=float32, numpy=array([-7.], dtype=float32)>"
      ]
     },
     "execution_count": 34,
     "metadata": {},
     "output_type": "execute_result"
    }
   ],
   "source": [
    "x[0]"
   ]
  },
  {
   "cell_type": "markdown",
   "metadata": {},
   "source": [
    "### Predict"
   ]
  },
  {
   "cell_type": "markdown",
   "metadata": {
    "id": "0ZpkaI_Oe6no"
   },
   "source": [
    "What do you think the outcome should be if we passed our model an `x` value of 17?"
   ]
  },
  {
   "cell_type": "code",
   "execution_count": 36,
   "metadata": {
    "colab": {
     "base_uri": "https://localhost:8080/"
    },
    "id": "X86cD66Qeo-8",
    "outputId": "653a5904-2ebe-4f63-fca6-12b3a9abc0d7",
    "scrolled": true
   },
   "outputs": [
    {
     "name": "stdout",
     "output_type": "stream",
     "text": [
      "1/1 [==============================] - 0s 95ms/step\n"
     ]
    },
    {
     "data": {
      "text/plain": [
       "array([[26.630243 ],\n",
       "       [ 1.8811907]], dtype=float32)"
      ]
     },
     "execution_count": 36,
     "metadata": {},
     "output_type": "execute_result"
    }
   ],
   "source": [
    "model.predict([[17],[1]])"
   ]
  },
  {
   "cell_type": "code",
   "execution_count": 38,
   "metadata": {},
   "outputs": [
    {
     "name": "stdout",
     "output_type": "stream",
     "text": [
      "1/1 [==============================] - 0s 32ms/step\n"
     ]
    },
    {
     "data": {
      "text/plain": [
       "array([[26.630243]], dtype=float32)"
      ]
     },
     "execution_count": 38,
     "metadata": {},
     "output_type": "execute_result"
    }
   ],
   "source": [
    "# Make a prediction with the model\n",
    "\n",
    "# Reshape the input for prediction to match the training data shape\n",
    "test = np.array([17])\n",
    "test = test.reshape((1, 1))\n",
    "\n",
    "# Use the reshaped data for prediction\n",
    "model.predict(test)"
   ]
  },
  {
   "cell_type": "code",
   "execution_count": 46,
   "metadata": {},
   "outputs": [
    {
     "name": "stdout",
     "output_type": "stream",
     "text": [
      "x shape: (8, 1)\n",
      "test shape: (1, 1)\n"
     ]
    },
    {
     "data": {
      "text/plain": [
       "(None, None)"
      ]
     },
     "execution_count": 46,
     "metadata": {},
     "output_type": "execute_result"
    }
   ],
   "source": [
    "print('x shape:',x.shape), print('test shape:',test.shape)"
   ]
  },
  {
   "cell_type": "markdown",
   "metadata": {
    "id": "2YoKIqhffq33"
   },
   "source": [
    "**Question:** What's Keras? We were working with TensorFlow but every time we write TensorFlow code, `keras` comes after `tf` (e.g. `tf.keras.layers.Dense()`)?\n",
    "\n",
    "Before TensorFlow 2.0+, [Keras](https://keras.io/) was an API designed to be able to build deep learning models with ease. Since TensorFlow 2.0+, its functionality has been tightly integrated within the TensorFlow library."
   ]
  },
  {
   "cell_type": "markdown",
   "metadata": {
    "id": "qAPk1T3xgOm4"
   },
   "source": [
    "# Improving a model\n",
    "\n",
    "To improve our model, we alter almost every part of the 3 steps we went through before.\n",
    "\n",
    "1. **Creating a model** - here you might want to add more layers, increase the number of hidden units (also called neurons) within each layer, change the activation functions of each layer.\n",
    "2. **Compiling a model** - you might want to choose optimization function or perhaps change the **learning rate** of the optimization function.\n",
    "3. **Fitting a model** - perhaps you could fit a model for more **epochs** (leave it training for longer) or on more data (give the model more examples to learn from).\n"
   ]
  },
  {
   "cell_type": "code",
   "execution_count": 47,
   "metadata": {
    "colab": {
     "base_uri": "https://localhost:8080/"
    },
    "id": "MI0LammMgWcN",
    "outputId": "682b68ee-b2fb-4c02-bc72-e7ce033b8b31"
   },
   "outputs": [
    {
     "name": "stdout",
     "output_type": "stream",
     "text": [
      "Epoch 1/100\n",
      "1/1 [==============================] - 0s 383ms/step - loss: 8.8412 - mae: 8.8412\n",
      "Epoch 2/100\n",
      "1/1 [==============================] - 0s 11ms/step - loss: 8.7087 - mae: 8.7087\n",
      "Epoch 3/100\n",
      "1/1 [==============================] - 0s 11ms/step - loss: 8.5762 - mae: 8.5762\n",
      "Epoch 4/100\n",
      "1/1 [==============================] - 0s 12ms/step - loss: 8.4437 - mae: 8.4437\n",
      "Epoch 5/100\n",
      "1/1 [==============================] - 0s 9ms/step - loss: 8.3112 - mae: 8.3112\n",
      "Epoch 6/100\n",
      "1/1 [==============================] - 0s 11ms/step - loss: 8.1787 - mae: 8.1787\n",
      "Epoch 7/100\n",
      "1/1 [==============================] - 0s 12ms/step - loss: 8.0462 - mae: 8.0462\n",
      "Epoch 8/100\n",
      "1/1 [==============================] - 0s 9ms/step - loss: 7.9137 - mae: 7.9137\n",
      "Epoch 9/100\n",
      "1/1 [==============================] - 0s 18ms/step - loss: 7.7812 - mae: 7.7812\n",
      "Epoch 10/100\n",
      "1/1 [==============================] - 0s 16ms/step - loss: 7.6487 - mae: 7.6487\n",
      "Epoch 11/100\n",
      "1/1 [==============================] - 0s 26ms/step - loss: 7.5162 - mae: 7.5162\n",
      "Epoch 12/100\n",
      "1/1 [==============================] - 0s 15ms/step - loss: 7.4175 - mae: 7.4175\n",
      "Epoch 13/100\n",
      "1/1 [==============================] - 0s 32ms/step - loss: 7.4119 - mae: 7.4119\n",
      "Epoch 14/100\n",
      "1/1 [==============================] - 0s 15ms/step - loss: 7.4062 - mae: 7.4062\n",
      "Epoch 15/100\n",
      "1/1 [==============================] - 0s 14ms/step - loss: 7.4006 - mae: 7.4006\n",
      "Epoch 16/100\n",
      "1/1 [==============================] - 0s 18ms/step - loss: 7.3950 - mae: 7.3950\n",
      "Epoch 17/100\n",
      "1/1 [==============================] - 0s 10ms/step - loss: 7.3894 - mae: 7.3894\n",
      "Epoch 18/100\n",
      "1/1 [==============================] - 0s 15ms/step - loss: 7.3837 - mae: 7.3837\n",
      "Epoch 19/100\n",
      "1/1 [==============================] - 0s 12ms/step - loss: 7.3781 - mae: 7.3781\n",
      "Epoch 20/100\n",
      "1/1 [==============================] - 0s 17ms/step - loss: 7.3725 - mae: 7.3725\n",
      "Epoch 21/100\n",
      "1/1 [==============================] - 0s 22ms/step - loss: 7.3669 - mae: 7.3669\n",
      "Epoch 22/100\n",
      "1/1 [==============================] - 0s 14ms/step - loss: 7.3612 - mae: 7.3612\n",
      "Epoch 23/100\n",
      "1/1 [==============================] - 0s 19ms/step - loss: 7.3556 - mae: 7.3556\n",
      "Epoch 24/100\n",
      "1/1 [==============================] - 0s 27ms/step - loss: 7.3500 - mae: 7.3500\n",
      "Epoch 25/100\n",
      "1/1 [==============================] - 0s 138ms/step - loss: 7.3444 - mae: 7.3444\n",
      "Epoch 26/100\n",
      "1/1 [==============================] - 0s 16ms/step - loss: 7.3387 - mae: 7.3387\n",
      "Epoch 27/100\n",
      "1/1 [==============================] - 0s 16ms/step - loss: 7.3331 - mae: 7.3331\n",
      "Epoch 28/100\n",
      "1/1 [==============================] - 0s 14ms/step - loss: 7.3275 - mae: 7.3275\n",
      "Epoch 29/100\n",
      "1/1 [==============================] - 0s 11ms/step - loss: 7.3219 - mae: 7.3219\n",
      "Epoch 30/100\n",
      "1/1 [==============================] - 0s 15ms/step - loss: 7.3162 - mae: 7.3162\n",
      "Epoch 31/100\n",
      "1/1 [==============================] - 0s 14ms/step - loss: 7.3106 - mae: 7.3106\n",
      "Epoch 32/100\n",
      "1/1 [==============================] - 0s 12ms/step - loss: 7.3050 - mae: 7.3050\n",
      "Epoch 33/100\n",
      "1/1 [==============================] - 0s 12ms/step - loss: 7.2994 - mae: 7.2994\n",
      "Epoch 34/100\n",
      "1/1 [==============================] - 0s 17ms/step - loss: 7.2937 - mae: 7.2937\n",
      "Epoch 35/100\n",
      "1/1 [==============================] - 0s 12ms/step - loss: 7.2881 - mae: 7.2881\n",
      "Epoch 36/100\n",
      "1/1 [==============================] - 0s 12ms/step - loss: 7.2825 - mae: 7.2825\n",
      "Epoch 37/100\n",
      "1/1 [==============================] - 0s 16ms/step - loss: 7.2769 - mae: 7.2769\n",
      "Epoch 38/100\n",
      "1/1 [==============================] - 0s 15ms/step - loss: 7.2713 - mae: 7.2713\n",
      "Epoch 39/100\n",
      "1/1 [==============================] - 0s 35ms/step - loss: 7.2656 - mae: 7.2656\n",
      "Epoch 40/100\n",
      "1/1 [==============================] - 0s 18ms/step - loss: 7.2600 - mae: 7.2600\n",
      "Epoch 41/100\n",
      "1/1 [==============================] - 0s 21ms/step - loss: 7.2544 - mae: 7.2544\n",
      "Epoch 42/100\n",
      "1/1 [==============================] - 0s 56ms/step - loss: 7.2487 - mae: 7.2487\n",
      "Epoch 43/100\n",
      "1/1 [==============================] - 0s 33ms/step - loss: 7.2431 - mae: 7.2431\n",
      "Epoch 44/100\n",
      "1/1 [==============================] - 0s 22ms/step - loss: 7.2375 - mae: 7.2375\n",
      "Epoch 45/100\n",
      "1/1 [==============================] - 0s 21ms/step - loss: 7.2319 - mae: 7.2319\n",
      "Epoch 46/100\n",
      "1/1 [==============================] - 0s 14ms/step - loss: 7.2262 - mae: 7.2262\n",
      "Epoch 47/100\n",
      "1/1 [==============================] - 0s 9ms/step - loss: 7.2206 - mae: 7.2206\n",
      "Epoch 48/100\n",
      "1/1 [==============================] - 0s 14ms/step - loss: 7.2150 - mae: 7.2150\n",
      "Epoch 49/100\n",
      "1/1 [==============================] - 0s 13ms/step - loss: 7.2094 - mae: 7.2094\n",
      "Epoch 50/100\n",
      "1/1 [==============================] - 0s 17ms/step - loss: 7.2038 - mae: 7.2038\n",
      "Epoch 51/100\n",
      "1/1 [==============================] - 0s 11ms/step - loss: 7.1981 - mae: 7.1981\n",
      "Epoch 52/100\n",
      "1/1 [==============================] - 0s 13ms/step - loss: 7.1925 - mae: 7.1925\n",
      "Epoch 53/100\n",
      "1/1 [==============================] - 0s 29ms/step - loss: 7.1869 - mae: 7.1869\n",
      "Epoch 54/100\n",
      "1/1 [==============================] - 0s 22ms/step - loss: 7.1812 - mae: 7.1812\n",
      "Epoch 55/100\n",
      "1/1 [==============================] - 0s 14ms/step - loss: 7.1756 - mae: 7.1756\n",
      "Epoch 56/100\n",
      "1/1 [==============================] - 0s 13ms/step - loss: 7.1700 - mae: 7.1700\n",
      "Epoch 57/100\n",
      "1/1 [==============================] - 0s 21ms/step - loss: 7.1644 - mae: 7.1644\n",
      "Epoch 58/100\n",
      "1/1 [==============================] - 0s 16ms/step - loss: 7.1587 - mae: 7.1587\n",
      "Epoch 59/100\n",
      "1/1 [==============================] - 0s 16ms/step - loss: 7.1531 - mae: 7.1531\n",
      "Epoch 60/100\n",
      "1/1 [==============================] - 0s 18ms/step - loss: 7.1475 - mae: 7.1475\n",
      "Epoch 61/100\n",
      "1/1 [==============================] - 0s 9ms/step - loss: 7.1419 - mae: 7.1419\n",
      "Epoch 62/100\n",
      "1/1 [==============================] - 0s 12ms/step - loss: 7.1363 - mae: 7.1363\n",
      "Epoch 63/100\n",
      "1/1 [==============================] - 0s 17ms/step - loss: 7.1306 - mae: 7.1306\n",
      "Epoch 64/100\n",
      "1/1 [==============================] - 0s 22ms/step - loss: 7.1250 - mae: 7.1250\n",
      "Epoch 65/100\n",
      "1/1 [==============================] - 0s 23ms/step - loss: 7.1194 - mae: 7.1194\n",
      "Epoch 66/100\n",
      "1/1 [==============================] - 0s 10ms/step - loss: 7.1138 - mae: 7.1138\n",
      "Epoch 67/100\n",
      "1/1 [==============================] - 0s 22ms/step - loss: 7.1081 - mae: 7.1081\n",
      "Epoch 68/100\n",
      "1/1 [==============================] - 0s 24ms/step - loss: 7.1025 - mae: 7.1025\n",
      "Epoch 69/100\n",
      "1/1 [==============================] - 0s 12ms/step - loss: 7.0969 - mae: 7.0969\n",
      "Epoch 70/100\n",
      "1/1 [==============================] - 0s 12ms/step - loss: 7.0913 - mae: 7.0913\n",
      "Epoch 71/100\n",
      "1/1 [==============================] - 0s 14ms/step - loss: 7.0856 - mae: 7.0856\n",
      "Epoch 72/100\n",
      "1/1 [==============================] - 0s 18ms/step - loss: 7.0800 - mae: 7.0800\n",
      "Epoch 73/100\n",
      "1/1 [==============================] - 0s 14ms/step - loss: 7.0744 - mae: 7.0744\n",
      "Epoch 74/100\n",
      "1/1 [==============================] - 0s 13ms/step - loss: 7.0687 - mae: 7.0687\n",
      "Epoch 75/100\n",
      "1/1 [==============================] - 0s 14ms/step - loss: 7.0631 - mae: 7.0631\n",
      "Epoch 76/100\n",
      "1/1 [==============================] - 0s 14ms/step - loss: 7.0575 - mae: 7.0575\n",
      "Epoch 77/100\n",
      "1/1 [==============================] - 0s 11ms/step - loss: 7.0519 - mae: 7.0519\n",
      "Epoch 78/100\n",
      "1/1 [==============================] - 0s 14ms/step - loss: 7.0463 - mae: 7.0463\n",
      "Epoch 79/100\n",
      "1/1 [==============================] - 0s 15ms/step - loss: 7.0406 - mae: 7.0406\n",
      "Epoch 80/100\n",
      "1/1 [==============================] - 0s 12ms/step - loss: 7.0350 - mae: 7.0350\n",
      "Epoch 81/100\n",
      "1/1 [==============================] - 0s 10ms/step - loss: 7.0294 - mae: 7.0294\n",
      "Epoch 82/100\n",
      "1/1 [==============================] - 0s 17ms/step - loss: 7.0237 - mae: 7.0237\n",
      "Epoch 83/100\n",
      "1/1 [==============================] - 0s 17ms/step - loss: 7.0181 - mae: 7.0181\n",
      "Epoch 84/100\n",
      "1/1 [==============================] - 0s 12ms/step - loss: 7.0125 - mae: 7.0125\n",
      "Epoch 85/100\n",
      "1/1 [==============================] - 0s 13ms/step - loss: 7.0069 - mae: 7.0069\n",
      "Epoch 86/100\n",
      "1/1 [==============================] - 0s 18ms/step - loss: 7.0013 - mae: 7.0013\n",
      "Epoch 87/100\n",
      "1/1 [==============================] - 0s 14ms/step - loss: 6.9956 - mae: 6.9956\n",
      "Epoch 88/100\n",
      "1/1 [==============================] - 0s 14ms/step - loss: 6.9900 - mae: 6.9900\n",
      "Epoch 89/100\n",
      "1/1 [==============================] - 0s 20ms/step - loss: 6.9844 - mae: 6.9844\n",
      "Epoch 90/100\n",
      "1/1 [==============================] - 0s 20ms/step - loss: 6.9788 - mae: 6.9788\n",
      "Epoch 91/100\n",
      "1/1 [==============================] - 0s 17ms/step - loss: 6.9731 - mae: 6.9731\n",
      "Epoch 92/100\n",
      "1/1 [==============================] - 0s 17ms/step - loss: 6.9675 - mae: 6.9675\n",
      "Epoch 93/100\n",
      "1/1 [==============================] - 0s 20ms/step - loss: 6.9619 - mae: 6.9619\n",
      "Epoch 94/100\n",
      "1/1 [==============================] - 0s 12ms/step - loss: 6.9563 - mae: 6.9563\n",
      "Epoch 95/100\n",
      "1/1 [==============================] - 0s 15ms/step - loss: 6.9506 - mae: 6.9506\n",
      "Epoch 96/100\n",
      "1/1 [==============================] - 0s 21ms/step - loss: 6.9450 - mae: 6.9450\n",
      "Epoch 97/100\n",
      "1/1 [==============================] - 0s 9ms/step - loss: 6.9394 - mae: 6.9394\n",
      "Epoch 98/100\n",
      "1/1 [==============================] - 0s 20ms/step - loss: 6.9338 - mae: 6.9338\n",
      "Epoch 99/100\n",
      "1/1 [==============================] - 0s 15ms/step - loss: 6.9281 - mae: 6.9281\n",
      "Epoch 100/100\n",
      "1/1 [==============================] - 0s 15ms/step - loss: 6.9225 - mae: 6.9225\n"
     ]
    },
    {
     "data": {
      "text/plain": [
       "<keras.callbacks.History at 0x7fc77e51c130>"
      ]
     },
     "execution_count": 47,
     "metadata": {},
     "output_type": "execute_result"
    }
   ],
   "source": [
    "# Set random seed\n",
    "tf.random.set_seed(42)\n",
    "\n",
    "# Create a model (same as above)\n",
    "model = tf.keras.Sequential([\n",
    "  tf.keras.layers.Dense(1)\n",
    "])\n",
    "\n",
    "# Compile model (same as above)\n",
    "model.compile(loss=tf.keras.losses.mae,\n",
    "              optimizer=tf.keras.optimizers.SGD(),\n",
    "              metrics=[\"mae\"])\n",
    "\n",
    "\n",
    "x = tf.reshape(x, (x.shape[0], 1))\n",
    "\n",
    "\n",
    "# Fit model (this time we'll train for longer)\n",
    "model.fit(x, y, epochs=100) # train for 50 epochs not 5"
   ]
  },
  {
   "cell_type": "markdown",
   "metadata": {},
   "source": [
    "    "
   ]
  },
  {
   "cell_type": "code",
   "execution_count": 48,
   "metadata": {
    "colab": {
     "base_uri": "https://localhost:8080/"
    },
    "id": "e6k5V08ZivNO",
    "outputId": "9809e4b0-a1de-4969-da75-23d48064f0f9"
   },
   "outputs": [
    {
     "name": "stdout",
     "output_type": "stream",
     "text": [
      "1/1 [==============================] - 0s 70ms/step\n"
     ]
    },
    {
     "data": {
      "text/plain": [
       "array([[29.950916]], dtype=float32)"
      ]
     },
     "execution_count": 48,
     "metadata": {},
     "output_type": "execute_result"
    }
   ],
   "source": [
    "# Make a prediction with the model\n",
    "\n",
    "# Reshape the input for prediction to match the training data shape\n",
    "test = np.array([17])\n",
    "test = test.reshape((1, 1))\n",
    "\n",
    "# Try and predict what y would be if X was 17.0\n",
    "model.predict(test) # the right answer is 27.0 (y = X + 10)"
   ]
  },
  {
   "cell_type": "markdown",
   "metadata": {
    "id": "sYi5V8ZYi_dy"
   },
   "source": [
    "Much better! \n",
    "\n",
    "We got closer this time. But we could still be better.\n",
    "\n",
    "Now we've trained a model, how could we evaluate it?"
   ]
  },
  {
   "cell_type": "markdown",
   "metadata": {
    "id": "HvC98q_h6zvG"
   },
   "source": [
    "# Evaluating a model \n",
    "\n",
    "A typical workflow you'll go through when building neural networks is:\n",
    "\n",
    "```\n",
    "Build a model -> evaluate it -> tweak the model -> evaulate it -> tweak the model -> evaluate it...\n",
    "```"
   ]
  },
  {
   "cell_type": "code",
   "execution_count": 52,
   "metadata": {
    "colab": {
     "base_uri": "https://localhost:8080/"
    },
    "id": "srxuqbeYopns",
    "outputId": "2a243d17-4fbd-489a-b861-bd7a56511437"
   },
   "outputs": [
    {
     "data": {
      "text/plain": [
       "array([-100,  -96,  -92,  -88,  -84,  -80,  -76,  -72,  -68,  -64,  -60,\n",
       "        -56,  -52,  -48,  -44,  -40,  -36,  -32,  -28,  -24,  -20,  -16,\n",
       "        -12,   -8,   -4,    0,    4,    8,   12,   16,   20,   24,   28,\n",
       "         32,   36,   40,   44,   48,   52,   56,   60,   64,   68,   72,\n",
       "         76,   80,   84,   88,   92,   96])"
      ]
     },
     "execution_count": 52,
     "metadata": {},
     "output_type": "execute_result"
    }
   ],
   "source": [
    "# Make a bigger dataset\n",
    "x = np.arange(-100, 100, 4)\n",
    "x"
   ]
  },
  {
   "cell_type": "code",
   "execution_count": 53,
   "metadata": {
    "colab": {
     "base_uri": "https://localhost:8080/"
    },
    "id": "pQcC0nSko3kJ",
    "outputId": "ef472020-6e83-45da-986f-eb4072f94b35"
   },
   "outputs": [
    {
     "data": {
      "text/plain": [
       "array([-90, -86, -82, -78, -74, -70, -66, -62, -58, -54, -50, -46, -42,\n",
       "       -38, -34, -30, -26, -22, -18, -14, -10,  -6,  -2,   2,   6,  10,\n",
       "        14,  18,  22,  26,  30,  34,  38,  42,  46,  50,  54,  58,  62,\n",
       "        66,  70,  74,  78,  82,  86,  90,  94,  98, 102, 106])"
      ]
     },
     "execution_count": 53,
     "metadata": {},
     "output_type": "execute_result"
    }
   ],
   "source": [
    "# Make labels for the dataset (adhering to the same pattern as before)\n",
    "y = np.arange(-90, 110, 4)\n",
    "y"
   ]
  },
  {
   "cell_type": "markdown",
   "metadata": {
    "id": "KNIw5tgGpKjb"
   },
   "source": [
    "Since $y=x+10$, we could make the labels like so:"
   ]
  },
  {
   "cell_type": "code",
   "execution_count": 54,
   "metadata": {
    "colab": {
     "base_uri": "https://localhost:8080/"
    },
    "id": "ACgbmrAOpJwW",
    "outputId": "bb561d4d-1bb1-479e-ae3e-a82cc96e95a3"
   },
   "outputs": [
    {
     "data": {
      "text/plain": [
       "array([-90, -86, -82, -78, -74, -70, -66, -62, -58, -54, -50, -46, -42,\n",
       "       -38, -34, -30, -26, -22, -18, -14, -10,  -6,  -2,   2,   6,  10,\n",
       "        14,  18,  22,  26,  30,  34,  38,  42,  46,  50,  54,  58,  62,\n",
       "        66,  70,  74,  78,  82,  86,  90,  94,  98, 102, 106])"
      ]
     },
     "execution_count": 54,
     "metadata": {},
     "output_type": "execute_result"
    }
   ],
   "source": [
    "# Same result as above\n",
    "y = x + 10\n",
    "y"
   ]
  },
  {
   "cell_type": "markdown",
   "metadata": {
    "id": "ax3MnQDupeBp"
   },
   "source": [
    "## Split data into training/test set\n",
    "\n",
    "One of the other most common and important steps in a machine learning project is creating a training and test set (and when required, a validation set).\n",
    "\n",
    "Each set serves a specific purpose:\n",
    "* **Training set** - the model learns from this data, which is typically 70-80% of the total data available (like the course materials you study during the semester).\n",
    "* **Validation set** - the model gets tuned on this data, which is typically 10-15% of the total data available (like the practice exam you take before the final exam).\n",
    "* **Test set** - the model gets evaluated on this data to test what it has learned, it's typically 10-15% of the total data available (like the final exam you take at the end of the semester).\n",
    "\n",
    "For now, we'll just use a training and test set, this means we'll have a dataset for our model to learn on as well as be evaluated on.\n",
    "\n",
    "We can create them by splitting our `x` and `y` arrays.\n"
   ]
  },
  {
   "cell_type": "code",
   "execution_count": 55,
   "metadata": {
    "colab": {
     "base_uri": "https://localhost:8080/"
    },
    "id": "5G0RDMnZrgvK",
    "outputId": "1da59eba-48b5-4b8f-a925-9537e68621fb"
   },
   "outputs": [
    {
     "data": {
      "text/plain": [
       "50"
      ]
     },
     "execution_count": 55,
     "metadata": {},
     "output_type": "execute_result"
    }
   ],
   "source": [
    "# Check how many samples we have\n",
    "len(x)"
   ]
  },
  {
   "cell_type": "code",
   "execution_count": 56,
   "metadata": {
    "colab": {
     "base_uri": "https://localhost:8080/"
    },
    "id": "4Q9ptcQkrGfO",
    "outputId": "7eda8251-08ea-4ded-99fc-f7be6a3c4f24"
   },
   "outputs": [
    {
     "data": {
      "text/plain": [
       "(40, 10)"
      ]
     },
     "execution_count": 56,
     "metadata": {},
     "output_type": "execute_result"
    }
   ],
   "source": [
    "# Split data into train and test sets\n",
    "x_train = x[:40] # first 40 examples (80% of data)\n",
    "y_train = y[:40]\n",
    "\n",
    "x_test = x[40:] # last 10 examples (20% of data)\n",
    "y_test = y[40:]\n",
    "\n",
    "len(x_train), len(x_test)"
   ]
  },
  {
   "cell_type": "markdown",
   "metadata": {
    "id": "Rz2cIdECsLH5"
   },
   "source": [
    "## Visualizing the data\n",
    "\n",
    "Now we've got our training and test data, it's a good idea to visualize it."
   ]
  },
  {
   "cell_type": "code",
   "execution_count": 58,
   "metadata": {
    "colab": {
     "base_uri": "https://localhost:8080/",
     "height": 428
    },
    "id": "os30CXBHsOAH",
    "outputId": "94949999-9146-45c1-f721-d92315ba4cda"
   },
   "outputs": [
    {
     "data": {
      "image/png": "[encoded data removed]",
      "text/plain": [
       "<Figure size 1000x700 with 1 Axes>"
      ]
     },
     "metadata": {},
     "output_type": "display_data"
    }
   ],
   "source": [
    "plt.figure(figsize=(10, 7))\n",
    "# Plot training data in blue\n",
    "plt.scatter(x_train, y_train, c='b', label='Training data')\n",
    "# Plot test data in green\n",
    "plt.scatter(x_test, y_test, c='g', label='Testing data')\n",
    "# Show the legend\n",
    "plt.legend();"
   ]
  },
  {
   "cell_type": "code",
   "execution_count": 63,
   "metadata": {
    "id": "4qpe0eSStSm-"
   },
   "outputs": [
    {
     "name": "stdout",
     "output_type": "stream",
     "text": [
      "Epoch 1/50\n",
      "2/2 [==============================] - 0s 11ms/step - loss: 12.1883 - mae: 12.1883\n",
      "Epoch 2/50\n",
      "2/2 [==============================] - 0s 14ms/step - loss: 13.0141 - mae: 13.0141\n",
      "Epoch 3/50\n",
      "2/2 [==============================] - 0s 17ms/step - loss: 11.6592 - mae: 11.6592\n",
      "Epoch 4/50\n",
      "2/2 [==============================] - 0s 18ms/step - loss: 9.3415 - mae: 9.3415\n",
      "Epoch 5/50\n",
      "2/2 [==============================] - 0s 23ms/step - loss: 10.2179 - mae: 10.2179\n",
      "Epoch 6/50\n",
      "2/2 [==============================] - 0s 9ms/step - loss: 9.4735 - mae: 9.4735\n",
      "Epoch 7/50\n",
      "2/2 [==============================] - 0s 11ms/step - loss: 8.6056 - mae: 8.6056\n",
      "Epoch 8/50\n",
      "2/2 [==============================] - 0s 9ms/step - loss: 9.0411 - mae: 9.0411\n",
      "Epoch 9/50\n",
      "2/2 [==============================] - 0s 10ms/step - loss: 18.8517 - mae: 18.8517\n",
      "Epoch 10/50\n",
      "2/2 [==============================] - 0s 8ms/step - loss: 10.1654 - mae: 10.1654\n",
      "Epoch 11/50\n",
      "2/2 [==============================] - 0s 15ms/step - loss: 8.4141 - mae: 8.4141\n",
      "Epoch 12/50\n",
      "2/2 [==============================] - 0s 10ms/step - loss: 10.7036 - mae: 10.7036\n",
      "Epoch 13/50\n",
      "2/2 [==============================] - 0s 15ms/step - loss: 9.8096 - mae: 9.8096\n",
      "Epoch 14/50\n",
      "2/2 [==============================] - 0s 4ms/step - loss: 16.1178 - mae: 16.1178\n",
      "Epoch 15/50\n",
      "2/2 [==============================] - 0s 12ms/step - loss: 11.3147 - mae: 11.3147\n",
      "Epoch 16/50\n",
      "2/2 [==============================] - 0s 17ms/step - loss: 8.5594 - mae: 8.5594\n",
      "Epoch 17/50\n",
      "2/2 [==============================] - 0s 9ms/step - loss: 13.6881 - mae: 13.6881\n",
      "Epoch 18/50\n",
      "2/2 [==============================] - 0s 9ms/step - loss: 11.5311 - mae: 11.5311\n",
      "Epoch 19/50\n",
      "2/2 [==============================] - 0s 12ms/step - loss: 17.8200 - mae: 17.8200\n",
      "Epoch 20/50\n",
      "2/2 [==============================] - 0s 5ms/step - loss: 14.9553 - mae: 14.9553\n",
      "Epoch 21/50\n",
      "2/2 [==============================] - 0s 18ms/step - loss: 10.8358 - mae: 10.8358\n",
      "Epoch 22/50\n",
      "2/2 [==============================] - 0s 47ms/step - loss: 8.5860 - mae: 8.5860\n",
      "Epoch 23/50\n",
      "2/2 [==============================] - 0s 10ms/step - loss: 9.7054 - mae: 9.7054\n",
      "Epoch 24/50\n",
      "2/2 [==============================] - 0s 13ms/step - loss: 10.9487 - mae: 10.9487\n",
      "Epoch 25/50\n",
      "2/2 [==============================] - 0s 9ms/step - loss: 9.1522 - mae: 9.1522\n",
      "Epoch 26/50\n",
      "2/2 [==============================] - 0s 10ms/step - loss: 13.1868 - mae: 13.1868\n",
      "Epoch 27/50\n",
      "2/2 [==============================] - 0s 15ms/step - loss: 10.6573 - mae: 10.6573\n",
      "Epoch 28/50\n",
      "2/2 [==============================] - 0s 5ms/step - loss: 12.8777 - mae: 12.8777\n",
      "Epoch 29/50\n",
      "2/2 [==============================] - 0s 13ms/step - loss: 9.5017 - mae: 9.5017\n",
      "Epoch 30/50\n",
      "2/2 [==============================] - 0s 5ms/step - loss: 16.4032 - mae: 16.4032\n",
      "Epoch 31/50\n",
      "2/2 [==============================] - 0s 4ms/step - loss: 23.5802 - mae: 23.5802\n",
      "Epoch 32/50\n",
      "2/2 [==============================] - 0s 5ms/step - loss: 7.6021 - mae: 7.6021\n",
      "Epoch 33/50\n",
      "2/2 [==============================] - 0s 4ms/step - loss: 9.2997 - mae: 9.2997\n",
      "Epoch 34/50\n",
      "2/2 [==============================] - 0s 13ms/step - loss: 13.6780 - mae: 13.6780\n",
      "Epoch 35/50\n",
      "2/2 [==============================] - 0s 11ms/step - loss: 11.1454 - mae: 11.1454\n",
      "Epoch 36/50\n",
      "2/2 [==============================] - 0s 11ms/step - loss: 13.3682 - mae: 13.3682\n",
      "Epoch 37/50\n",
      "2/2 [==============================] - 0s 10ms/step - loss: 9.4465 - mae: 9.4465\n",
      "Epoch 38/50\n",
      "2/2 [==============================] - 0s 11ms/step - loss: 10.0989 - mae: 10.0989\n",
      "Epoch 39/50\n",
      "2/2 [==============================] - 0s 12ms/step - loss: 10.1974 - mae: 10.1974\n",
      "Epoch 40/50\n",
      "2/2 [==============================] - 0s 57ms/step - loss: 10.9425 - mae: 10.9425\n",
      "Epoch 41/50\n",
      "2/2 [==============================] - 0s 14ms/step - loss: 7.9175 - mae: 7.9175\n",
      "Epoch 42/50\n",
      "2/2 [==============================] - 0s 7ms/step - loss: 10.5770 - mae: 10.5770\n",
      "Epoch 43/50\n",
      "2/2 [==============================] - 0s 15ms/step - loss: 7.2018 - mae: 7.2018\n",
      "Epoch 44/50\n",
      "2/2 [==============================] - 0s 11ms/step - loss: 7.9905 - mae: 7.9905\n",
      "Epoch 45/50\n",
      "2/2 [==============================] - 0s 15ms/step - loss: 9.7836 - mae: 9.7836\n",
      "Epoch 46/50\n",
      "2/2 [==============================] - 0s 12ms/step - loss: 8.8601 - mae: 8.8601\n",
      "Epoch 47/50\n",
      "2/2 [==============================] - 0s 13ms/step - loss: 7.5641 - mae: 7.5641\n",
      "Epoch 48/50\n",
      "2/2 [==============================] - 0s 12ms/step - loss: 8.5646 - mae: 8.5646\n",
      "Epoch 49/50\n",
      "2/2 [==============================] - 0s 14ms/step - loss: 9.9890 - mae: 9.9890\n",
      "Epoch 50/50\n",
      "2/2 [==============================] - 0s 19ms/step - loss: 9.0164 - mae: 9.0164\n"
     ]
    },
    {
     "data": {
      "text/plain": [
       "<keras.callbacks.History at 0x7fc77ed52c40>"
      ]
     },
     "execution_count": 63,
     "metadata": {},
     "output_type": "execute_result"
    }
   ],
   "source": [
    "# Set random seed\n",
    "tf.random.set_seed(42)\n",
    "\n",
    "# Create a model (same as above)\n",
    "model = tf.keras.Sequential([\n",
    "  tf.keras.layers.Dense(1)\n",
    "])\n",
    "\n",
    "# Compile model (same as above)\n",
    "model.compile(loss=tf.keras.losses.mae,\n",
    "              optimizer=tf.keras.optimizers.SGD(),\n",
    "              metrics=[\"mae\"])\n",
    "\n",
    "x_train = tf.reshape(x_train, (x_train.shape[0], 1))\n",
    "\n",
    "\n",
    "# Fit model (same as above)\n",
    "model.fit(x_train, y_train, epochs=50) # commented out on purpose (not fitting it just yet)"
   ]
  },
  {
   "cell_type": "markdown",
   "metadata": {
    "id": "hc2RHCCfqlAc"
   },
   "source": [
    "## Visualizing the model\n",
    "\n",
    "After you've built a model, you might want to take a look at it (especially if you haven't built many before).\n",
    "\n",
    "You can take a look at the layers and shapes of your model by calling [`summary()`](https://www.tensorflow.org/api_docs/python/tf/keras/Model#summary) on it.\n",
    "\n",
    "> 🔑 **Note:** Visualizing a model is particularly helpful when you run into input and output shape mismatches."
   ]
  },
  {
   "cell_type": "code",
   "execution_count": 64,
   "metadata": {
    "colab": {
     "base_uri": "https://localhost:8080/",
     "height": 414
    },
    "id": "OlgJj0cFwChH",
    "outputId": "af3d8f0f-67ed-4b30-dc32-6083224ff847"
   },
   "outputs": [
    {
     "name": "stdout",
     "output_type": "stream",
     "text": [
      "Model: \"sequential_6\"\n",
      "_________________________________________________________________\n",
      " Layer (type)                Output Shape              Param #   \n",
      "=================================================================\n",
      " dense_6 (Dense)             (None, 1)                 2         \n",
      "                                                                 \n",
      "=================================================================\n",
      "Total params: 2\n",
      "Trainable params: 2\n",
      "Non-trainable params: 0\n",
      "_________________________________________________________________\n"
     ]
    }
   ],
   "source": [
    "# Doesn't work (model not fit/built)\n",
    "model.summary()"
   ]
  },
  {
   "cell_type": "markdown",
   "metadata": {
    "id": "jdurWKlryl6b"
   },
   "source": [
    "Calling `summary()` on our model shows us the layers it contains, the output shape and the number of parameters.\n",
    "* **Total params** - total number of parameters in the model.\n",
    "* **Trainable parameters** - these are the parameters (patterns) the model can update as it trains.\n",
    "* **Non-trainable parameters** - these parameters aren't updated during training (this is typical when you bring in the already learned patterns from other models during transfer learning).\n",
    "\n",
    "**Exercise:** Try playing around with the number of hidden units in the `Dense` layer (e.g. `Dense(2)`, `Dense(3)`). How does this change the Total/Trainable params? "
   ]
  },
  {
   "cell_type": "markdown",
   "metadata": {
    "id": "gebj2eptqwg8"
   },
   "source": [
    "## Visualizing the predictions\n",
    "\n",
    "Now we've got a trained model, let's visualize some predictions.\n",
    "\n",
    "To visualize predictions, it's always a good idea to plot them against the ground truth labels.\n",
    "\n",
    "Often you'll see this in the form of `y_test` vs. `y_pred` (ground truth vs. predictions).\n",
    "\n",
    "First, we'll make some predictions on the test data (`x_test`), remember the model has never seen the test data."
   ]
  },
  {
   "cell_type": "code",
   "execution_count": 67,
   "metadata": {
    "id": "RRzj7LJMYftb"
   },
   "outputs": [
    {
     "name": "stdout",
     "output_type": "stream",
     "text": [
      "1/1 [==============================] - 0s 70ms/step\n"
     ]
    }
   ],
   "source": [
    "# Make predictions\n",
    "\n",
    "# Reshape the input for prediction to match the training data shape\n",
    "\n",
    "x_test = x_test.reshape((x_test.shape[0], 1))\n",
    "\n",
    "y_pred = model.predict(x_test)"
   ]
  },
  {
   "cell_type": "code",
   "execution_count": 68,
   "metadata": {
    "colab": {
     "base_uri": "https://localhost:8080/"
    },
    "id": "_hKpW-KOZiAW",
    "outputId": "2d625913-c5ef-4f0d-b1d5-6bf60fdb3460"
   },
   "outputs": [
    {
     "data": {
      "text/plain": [
       "array([[ 67.699104],\n",
       "       [ 72.168335],\n",
       "       [ 76.637566],\n",
       "       [ 81.1068  ],\n",
       "       [ 85.576035],\n",
       "       [ 90.045265],\n",
       "       [ 94.514496],\n",
       "       [ 98.98373 ],\n",
       "       [103.45296 ],\n",
       "       [107.92219 ]], dtype=float32)"
      ]
     },
     "execution_count": 68,
     "metadata": {},
     "output_type": "execute_result"
    }
   ],
   "source": [
    "# View the predictions\n",
    "y_pred"
   ]
  },
  {
   "cell_type": "markdown",
   "metadata": {},
   "source": [
    "    "
   ]
  },
  {
   "cell_type": "code",
   "execution_count": 69,
   "metadata": {
    "id": "56euC69rZvNJ"
   },
   "outputs": [],
   "source": [
    "def plot_predictions(train_data=x_train, \n",
    "                     train_labels=y_train, \n",
    "                     test_data=x_test, \n",
    "                     test_labels=y_test, \n",
    "                     predictions=y_pred):\n",
    "  \"\"\"\n",
    "  Plots training data, test data and compares predictions.\n",
    "  \"\"\"\n",
    "  plt.figure(figsize=(10, 7))\n",
    "  # Plot training data in blue\n",
    "  plt.scatter(train_data, train_labels, c=\"b\", label=\"Training data\")\n",
    "  # Plot test data in green\n",
    "  plt.scatter(test_data, test_labels, c=\"g\", label=\"Testing data\")\n",
    "  # Plot the predictions in red (predictions were made on the test data)\n",
    "  plt.scatter(test_data, predictions, c=\"r\", label=\"Predictions\")\n",
    "  # Show the legend\n",
    "  plt.legend();"
   ]
  },
  {
   "cell_type": "code",
   "execution_count": 71,
   "metadata": {
    "colab": {
     "base_uri": "https://localhost:8080/",
     "height": 428
    },
    "id": "Fug5_B6Ab7Ah",
    "outputId": "4d672d63-80b7-420a-bcc0-7e9d5b901c7e"
   },
   "outputs": [
    {
     "data": {
      "image/png": "[encoded data removed]",
      "text/plain": [
       "<Figure size 1000x700 with 1 Axes>"
      ]
     },
     "metadata": {},
     "output_type": "display_data"
    }
   ],
   "source": [
    "plot_predictions(train_data=x_train,\n",
    "                 train_labels=y_train,\n",
    "                 test_data=x_test,\n",
    "                 test_labels=y_test,\n",
    "                 predictions=y_pred)"
   ]
  },
  {
   "cell_type": "markdown",
   "metadata": {
    "id": "H63NPcgPcwZV"
   },
   "source": [
    "From the plot we can see our predictions are good."
   ]
  },
  {
   "cell_type": "markdown",
   "metadata": {
    "id": "orAfIWOrgRDA"
   },
   "source": [
    "## Evaluating predictions\n",
    "\n",
    "Alongisde visualizations, evaulation metrics are your alternative best option for evaluating your model.\n",
    "\n",
    "Depending on the problem you're working on, different models have different evaluation metrics. \n",
    "\n",
    "Two of the main metrics used for regression problems are:\n",
    "* **Mean absolute error (MAE)** - the mean difference between each of the predictions.\n",
    "* **Mean squared error (MSE)** - the squared mean difference between of the predictions (use if larger errors are more detrimental than smaller errors).\n",
    "\n",
    "The lower each of these values, the better."
   ]
  },
  {
   "cell_type": "code",
   "execution_count": 73,
   "metadata": {
    "colab": {
     "base_uri": "https://localhost:8080/"
    },
    "id": "gqoMQ0dJeD2S",
    "outputId": "d18078fe-6a35-4465-d77d-68151a2134c5"
   },
   "outputs": [
    {
     "data": {
      "text/plain": [
       "<tf.Tensor: shape=(10,), dtype=float32, numpy=\n",
       "array([20.300896, 16.265331, 13.217461, 11.157282, 10.084793, 10.009053,\n",
       "       11.005798, 12.990236, 15.962366, 19.922188], dtype=float32)>"
      ]
     },
     "execution_count": 73,
     "metadata": {},
     "output_type": "execute_result"
    }
   ],
   "source": [
    "# Calculate the mean absolute error\n",
    "mae = tf.metrics.mean_absolute_error(y_test, y_pred)\n",
    "mae"
   ]
  },
  {
   "cell_type": "markdown",
   "metadata": {
    "id": "7pYp3XNYfkyC"
   },
   "source": [
    "That's strange, MAE should be a single output.\n",
    "\n",
    "Instead, we get 10 values.\n",
    "\n",
    "This is because our `y_test` and `y_pred` tensors are different shapes."
   ]
  },
  {
   "cell_type": "code",
   "execution_count": 74,
   "metadata": {
    "colab": {
     "base_uri": "https://localhost:8080/"
    },
    "id": "zeUHwOc2gIV4",
    "outputId": "2c83e0f4-4ba0-4f8c-ba44-4a9effe82743"
   },
   "outputs": [
    {
     "data": {
      "text/plain": [
       "array([ 70,  74,  78,  82,  86,  90,  94,  98, 102, 106])"
      ]
     },
     "execution_count": 74,
     "metadata": {},
     "output_type": "execute_result"
    }
   ],
   "source": [
    "# Check the test label tensor values\n",
    "y_test"
   ]
  },
  {
   "cell_type": "code",
   "execution_count": 76,
   "metadata": {
    "colab": {
     "base_uri": "https://localhost:8080/"
    },
    "id": "3aJwlTxugPyc",
    "outputId": "8db8cd49-d1b8-49b4-b48c-ac56e0ec8a5a"
   },
   "outputs": [
    {
     "data": {
      "text/plain": [
       "array([[ 67.699104],\n",
       "       [ 72.168335],\n",
       "       [ 76.637566],\n",
       "       [ 81.1068  ],\n",
       "       [ 85.576035],\n",
       "       [ 90.045265],\n",
       "       [ 94.514496],\n",
       "       [ 98.98373 ],\n",
       "       [103.45296 ],\n",
       "       [107.92219 ]], dtype=float32)"
      ]
     },
     "execution_count": 76,
     "metadata": {},
     "output_type": "execute_result"
    }
   ],
   "source": [
    "# Check the predictions tensor values (notice the extra square brackets)\n",
    "y_pred"
   ]
  },
  {
   "cell_type": "code",
   "execution_count": 77,
   "metadata": {
    "colab": {
     "base_uri": "https://localhost:8080/"
    },
    "id": "xolZ-lmge_ES",
    "outputId": "c4658cbf-5176-4499-8fae-1c2f3baee7c5"
   },
   "outputs": [
    {
     "data": {
      "text/plain": [
       "((10,), (10, 1))"
      ]
     },
     "execution_count": 77,
     "metadata": {},
     "output_type": "execute_result"
    }
   ],
   "source": [
    "# Check the tensor shapes\n",
    "y_test.shape, y_pred.shape"
   ]
  },
  {
   "cell_type": "markdown",
   "metadata": {
    "id": "eW1qleu5gHyZ"
   },
   "source": [
    "Dealing with different input and output shapes is one the most common issues you'll come across, this is one of those times.\n",
    "\n",
    "We can fix it using [`squeeze()`](https://www.tensorflow.org/api_docs/python/tf/squeeze), it'll remove the the `1` dimension from our `y_pred` tensor, making it the same shape as `y_test`.\n",
    "\n",
    "> **Note:** If you're comparing two tensors, it's important to make sure they're the right shape(s) (you won't always have to manipulate the shapes, but always be on the look out, *many* errors are the result of mismatched tensors, especially mismatched input and output shapes)."
   ]
  },
  {
   "cell_type": "code",
   "execution_count": 78,
   "metadata": {
    "colab": {
     "base_uri": "https://localhost:8080/"
    },
    "id": "tVtMyw70g4aF",
    "outputId": "29dc2bac-aaba-4330-a07e-0806a312ee57"
   },
   "outputs": [
    {
     "data": {
      "text/plain": [
       "(10, 1)"
      ]
     },
     "execution_count": 78,
     "metadata": {},
     "output_type": "execute_result"
    }
   ],
   "source": [
    "# Shape before squeeze()\n",
    "y_pred.shape"
   ]
  },
  {
   "cell_type": "code",
   "execution_count": 81,
   "metadata": {
    "colab": {
     "base_uri": "https://localhost:8080/"
    },
    "id": "qnYaBnCng-Nq",
    "outputId": "04e26605-2304-4596-ada3-01a2199f2575"
   },
   "outputs": [
    {
     "data": {
      "text/plain": [
       "(10,)"
      ]
     },
     "execution_count": 81,
     "metadata": {},
     "output_type": "execute_result"
    }
   ],
   "source": [
    "# Shape after squeeze()\n",
    "y_pred = y_pred.squeeze()\n",
    "y_pred.shape"
   ]
  },
  {
   "cell_type": "code",
   "execution_count": 83,
   "metadata": {
    "colab": {
     "base_uri": "https://localhost:8080/"
    },
    "id": "HxvVeD64hEX8",
    "outputId": "25168925-e44f-4bbc-f6d3-c90495f7898a"
   },
   "outputs": [
    {
     "data": {
      "text/plain": [
       "(array([ 70,  74,  78,  82,  86,  90,  94,  98, 102, 106]),\n",
       " array([ 67.699104,  72.168335,  76.637566,  81.1068  ,  85.576035,\n",
       "         90.045265,  94.514496,  98.98373 , 103.45296 , 107.92219 ],\n",
       "       dtype=float32))"
      ]
     },
     "execution_count": 83,
     "metadata": {},
     "output_type": "execute_result"
    }
   ],
   "source": [
    "# What do they look like?\n",
    "y_test, y_pred"
   ]
  },
  {
   "cell_type": "markdown",
   "metadata": {
    "id": "mfUCIeHyhLk7"
   },
   "source": [
    "Okay, now we know how to make our `y_test` and `y_preds` tenors the same shape, let's use our evaluation metrics."
   ]
  },
  {
   "cell_type": "code",
   "execution_count": 85,
   "metadata": {
    "colab": {
     "base_uri": "https://localhost:8080/"
    },
    "id": "TvjY6GIJvXBO",
    "outputId": "00569a5a-3fea-4f28-d433-ca625e0b3c48"
   },
   "outputs": [
    {
     "data": {
      "text/plain": [
       "<tf.Tensor: shape=(), dtype=float32, numpy=1.1730797>"
      ]
     },
     "execution_count": 85,
     "metadata": {},
     "output_type": "execute_result"
    }
   ],
   "source": [
    "# Calcuate the MAE\n",
    "mae = tf.metrics.mean_absolute_error(y_test, y_pred)\n",
    "mae"
   ]
  },
  {
   "cell_type": "markdown",
   "metadata": {
    "id": "zub5zK7bcl40"
   },
   "source": [
    "## Running experiments to improve a model\n",
    "\n",
    "After seeing the evaluation metrics and the predictions your model makes, it's likely you'll want to improve it.\n",
    "\n",
    "Again, there are many different ways you can do this, but 3 of the main ones are:\n",
    "1. **Get more data** - get more examples for your model to train on (more opportunities to learn patterns).\n",
    "2. **Make your model larger (use a more complex model)** - this might come in the form of more layers or more hidden units in each layer.\n",
    "3. **Train for longer** - give your model more of a chance to find the patterns in the data.\n",
    "\n",
    "Since we created our dataset, we could easily make more data but this isn't always the case when you're working with real-world datasets.\n",
    "\n",
    "So let's take a look at how we can improve our model using 2 and 3.\n",
    "\n",
    "To do so, we'll build 3 models and compare their results:\n",
    "1. `model_1` - same as original model, 1 layer, trained for 100 epochs.\n",
    "2. `model_2` - 2 layers, trained for 100 epochs.\n",
    "3. `model_3` - 2 layers, trained for 500 epochs.\n",
    "\n",
    "**Build `model_1`**"
   ]
  },
  {
   "cell_type": "markdown",
   "metadata": {
    "id": "Fe5DgNbX6192"
   },
   "source": [
    "# Saving a model\n",
    "\n",
    "Once you've trained a model and found one which performs to your liking, you'll probably want to save it for use elsewhere (like a web application or mobile device).\n",
    "\n",
    "You can save a TensorFlow/Keras model using [`model.save()`](https://www.tensorflow.org/tutorials/keras/save_and_load#save_the_entire_model).\n",
    "\n",
    "There are two ways to save a model in TensorFlow:\n",
    "1. The [SavedModel format](https://www.tensorflow.org/tutorials/keras/save_and_load#savedmodel_format) (default).\n",
    "2. The [HDF5 format](https://www.tensorflow.org/tutorials/keras/save_and_load#hdf5_format).\n",
    "\n",
    "The main difference between the two is the SavedModel is automatically able to save custom objects (such as special layers) without additional modifications when loading the model back in.\n",
    "\n",
    "Which one should you use?\n",
    "\n",
    "It depends on your situation but the SavedModel format will suffice most of the time.\n",
    "\n",
    "Both methods use the same method call."
   ]
  },
  {
   "cell_type": "code",
   "execution_count": null,
   "metadata": {
    "colab": {
     "base_uri": "https://localhost:8080/"
    },
    "id": "gg0jD2cUoPsg",
    "outputId": "302b7457-0b55-4418-a2e5-e1e448d3e050"
   },
   "outputs": [
    {
     "name": "stdout",
     "output_type": "stream",
     "text": [
      "WARNING:tensorflow:From /usr/local/lib/python3.6/dist-packages/tensorflow/python/training/tracking/tracking.py:111: Model.state_updates (from tensorflow.python.keras.engine.training) is deprecated and will be removed in a future version.\n",
      "Instructions for updating:\n",
      "This property should not be used in TensorFlow 2.0, as updates are applied automatically.\n",
      "WARNING:tensorflow:From /usr/local/lib/python3.6/dist-packages/tensorflow/python/training/tracking/tracking.py:111: Layer.updates (from tensorflow.python.keras.engine.base_layer) is deprecated and will be removed in a future version.\n",
      "Instructions for updating:\n",
      "This property should not be used in TensorFlow 2.0, as updates are applied automatically.\n",
      "INFO:tensorflow:Assets written to: best_model_SavedModel_format/assets\n"
     ]
    }
   ],
   "source": [
    "# Save a model using the SavedModel format\n",
    "model.save('best_model_SavedModel_format')"
   ]
  },
  {
   "cell_type": "markdown",
   "metadata": {
    "id": "OGA02tY97EUI"
   },
   "source": [
    "# Loading a model\n",
    "\n",
    "We can load a saved model using the [`load_model()`](https://www.tensorflow.org/api_docs/python/tf/keras/models/load_model) method.\n",
    "\n",
    "Loading a model for the different formats (SavedModel and HDF5) is the same (as long as the pathnames to the particuluar formats are correct)."
   ]
  },
  {
   "cell_type": "code",
   "execution_count": null,
   "metadata": {
    "colab": {
     "base_uri": "https://localhost:8080/"
    },
    "id": "FzyLIWfs7Fvh",
    "outputId": "e75e4be0-9031-492a-82b1-df9813dbfa9e"
   },
   "outputs": [
    {
     "name": "stdout",
     "output_type": "stream",
     "text": [
      "Model: \"sequential_9\"\n",
      "_________________________________________________________________\n",
      "Layer (type)                 Output Shape              Param #   \n",
      "=================================================================\n",
      "dense_9 (Dense)              (None, 1)                 2         \n",
      "_________________________________________________________________\n",
      "dense_10 (Dense)             (None, 1)                 2         \n",
      "=================================================================\n",
      "Total params: 4\n",
      "Trainable params: 4\n",
      "Non-trainable params: 0\n",
      "_________________________________________________________________\n"
     ]
    }
   ],
   "source": [
    "# Load a model from the SavedModel format\n",
    "loaded_saved_model = tf.keras.models.load_model(\"best_model_SavedModel_format\")\n",
    "loaded_saved_model.summary()"
   ]
  },
  {
   "cell_type": "markdown",
   "metadata": {
    "id": "MfGO0dCQTeQh"
   },
   "source": [
    "Now let's test it out."
   ]
  },
  {
   "cell_type": "markdown",
   "metadata": {
    "id": "7xpVdMtKw6X4"
   },
   "source": [
    "# A larger example\n",
    "\n",
    "We have seen the fundamentals of building neural network regression models in TensorFlow.\n",
    "\n",
    "Let's build a model for a more feature rich database.\n",
    "\n",
    "More specifically we're going to try predict the cost of medical insurance for individuals based on a number of different parameters such as, `age`, `sex`, `bmi`, `children`, `smoking_status` and `residential_region`.\n",
    "\n",
    "To do, we'll leverage the pubically available [Medical Cost dataset](https://www.kaggle.com/mirichoi0218/insurance) available from Kaggle and [hosted on GitHub](https://github.com/stedy/Machine-Learning-with-R-datasets/blob/master/insurance.csv).\n"
   ]
  },
  {
   "cell_type": "code",
   "execution_count": 88,
   "metadata": {
    "id": "WWK1LBxapgc2"
   },
   "outputs": [],
   "source": [
    "# Import required libraries\n",
    "import tensorflow as tf\n",
    "import pandas as pd\n",
    "import matplotlib.pyplot as plt"
   ]
  },
  {
   "cell_type": "code",
   "execution_count": 89,
   "metadata": {
    "id": "JrnTr5N9blFo"
   },
   "outputs": [],
   "source": [
    "# Read in the insurance dataset\n",
    "insurance = pd.read_csv(\"https://raw.githubusercontent.com/stedy/Machine-Learning-with-R-datasets/master/insurance.csv\")"
   ]
  },
  {
   "cell_type": "code",
   "execution_count": 90,
   "metadata": {
    "colab": {
     "base_uri": "https://localhost:8080/",
     "height": 195
    },
    "id": "QtXPN7cfb4Nm",
    "outputId": "39cf3114-3a57-4ad3-cab9-4d55728064c9"
   },
   "outputs": [
    {
     "data": {
      "text/html": [
       "<div>\n",
       "<style scoped>\n",
       "    .dataframe tbody tr th:only-of-type {\n",
       "        vertical-align: middle;\n",
       "    }\n",
       "\n",
       "    .dataframe tbody tr th {\n",
       "        vertical-align: top;\n",
       "    }\n",
       "\n",
       "    .dataframe thead th {\n",
       "        text-align: right;\n",
       "    }\n",
       "</style>\n",
       "<table border=\"1\" class=\"dataframe\">\n",
       "  <thead>\n",
       "    <tr style=\"text-align: right;\">\n",
       "      <th></th>\n",
       "      <th>age</th>\n",
       "      <th>sex</th>\n",
       "      <th>bmi</th>\n",
       "      <th>children</th>\n",
       "      <th>smoker</th>\n",
       "      <th>region</th>\n",
       "      <th>charges</th>\n",
       "    </tr>\n",
       "  </thead>\n",
       "  <tbody>\n",
       "    <tr>\n",
       "      <th>0</th>\n",
       "      <td>19</td>\n",
       "      <td>female</td>\n",
       "      <td>27.900</td>\n",
       "      <td>0</td>\n",
       "      <td>yes</td>\n",
       "      <td>southwest</td>\n",
       "      <td>16884.92400</td>\n",
       "    </tr>\n",
       "    <tr>\n",
       "      <th>1</th>\n",
       "      <td>18</td>\n",
       "      <td>male</td>\n",
       "      <td>33.770</td>\n",
       "      <td>1</td>\n",
       "      <td>no</td>\n",
       "      <td>southeast</td>\n",
       "      <td>1725.55230</td>\n",
       "    </tr>\n",
       "    <tr>\n",
       "      <th>2</th>\n",
       "      <td>28</td>\n",
       "      <td>male</td>\n",
       "      <td>33.000</td>\n",
       "      <td>3</td>\n",
       "      <td>no</td>\n",
       "      <td>southeast</td>\n",
       "      <td>4449.46200</td>\n",
       "    </tr>\n",
       "    <tr>\n",
       "      <th>3</th>\n",
       "      <td>33</td>\n",
       "      <td>male</td>\n",
       "      <td>22.705</td>\n",
       "      <td>0</td>\n",
       "      <td>no</td>\n",
       "      <td>northwest</td>\n",
       "      <td>21984.47061</td>\n",
       "    </tr>\n",
       "    <tr>\n",
       "      <th>4</th>\n",
       "      <td>32</td>\n",
       "      <td>male</td>\n",
       "      <td>28.880</td>\n",
       "      <td>0</td>\n",
       "      <td>no</td>\n",
       "      <td>northwest</td>\n",
       "      <td>3866.85520</td>\n",
       "    </tr>\n",
       "  </tbody>\n",
       "</table>\n",
       "</div>"
      ],
      "text/plain": [
       "   age     sex     bmi  children smoker     region      charges\n",
       "0   19  female  27.900         0    yes  southwest  16884.92400\n",
       "1   18    male  33.770         1     no  southeast   1725.55230\n",
       "2   28    male  33.000         3     no  southeast   4449.46200\n",
       "3   33    male  22.705         0     no  northwest  21984.47061\n",
       "4   32    male  28.880         0     no  northwest   3866.85520"
      ]
     },
     "execution_count": 90,
     "metadata": {},
     "output_type": "execute_result"
    }
   ],
   "source": [
    "# Check out the insurance dataset\n",
    "insurance.head()"
   ]
  },
  {
   "cell_type": "markdown",
   "metadata": {
    "id": "s55oIsYv0KkZ"
   },
   "source": [
    "We're going to have to turn the non-numerical columns into numbers (because a neural network can't handle non-numerical inputs).\n",
    "\n",
    "To do so, we'll use the [`get_dummies()`](https://pandas.pydata.org/pandas-docs/stable/reference/api/pandas.get_dummies.html) method in pandas.\n",
    "\n",
    "It converts categorical variables (like the `sex`, `smoker` and `region` columns) into numerical variables using one-hot encoding."
   ]
  },
  {
   "cell_type": "code",
   "execution_count": 91,
   "metadata": {
    "colab": {
     "base_uri": "https://localhost:8080/",
     "height": 215
    },
    "id": "MqM_BmPkdon8",
    "outputId": "a1456aaa-4d07-4c24-bf9d-5b3a7777647f"
   },
   "outputs": [
    {
     "data": {
      "text/html": [
       "<div>\n",
       "<style scoped>\n",
       "    .dataframe tbody tr th:only-of-type {\n",
       "        vertical-align: middle;\n",
       "    }\n",
       "\n",
       "    .dataframe tbody tr th {\n",
       "        vertical-align: top;\n",
       "    }\n",
       "\n",
       "    .dataframe thead th {\n",
       "        text-align: right;\n",
       "    }\n",
       "</style>\n",
       "<table border=\"1\" class=\"dataframe\">\n",
       "  <thead>\n",
       "    <tr style=\"text-align: right;\">\n",
       "      <th></th>\n",
       "      <th>age</th>\n",
       "      <th>bmi</th>\n",
       "      <th>children</th>\n",
       "      <th>charges</th>\n",
       "      <th>sex_female</th>\n",
       "      <th>sex_male</th>\n",
       "      <th>smoker_no</th>\n",
       "      <th>smoker_yes</th>\n",
       "      <th>region_northeast</th>\n",
       "      <th>region_northwest</th>\n",
       "      <th>region_southeast</th>\n",
       "      <th>region_southwest</th>\n",
       "    </tr>\n",
       "  </thead>\n",
       "  <tbody>\n",
       "    <tr>\n",
       "      <th>0</th>\n",
       "      <td>19</td>\n",
       "      <td>27.900</td>\n",
       "      <td>0</td>\n",
       "      <td>16884.92400</td>\n",
       "      <td>1</td>\n",
       "      <td>0</td>\n",
       "      <td>0</td>\n",
       "      <td>1</td>\n",
       "      <td>0</td>\n",
       "      <td>0</td>\n",
       "      <td>0</td>\n",
       "      <td>1</td>\n",
       "    </tr>\n",
       "    <tr>\n",
       "      <th>1</th>\n",
       "      <td>18</td>\n",
       "      <td>33.770</td>\n",
       "      <td>1</td>\n",
       "      <td>1725.55230</td>\n",
       "      <td>0</td>\n",
       "      <td>1</td>\n",
       "      <td>1</td>\n",
       "      <td>0</td>\n",
       "      <td>0</td>\n",
       "      <td>0</td>\n",
       "      <td>1</td>\n",
       "      <td>0</td>\n",
       "    </tr>\n",
       "    <tr>\n",
       "      <th>2</th>\n",
       "      <td>28</td>\n",
       "      <td>33.000</td>\n",
       "      <td>3</td>\n",
       "      <td>4449.46200</td>\n",
       "      <td>0</td>\n",
       "      <td>1</td>\n",
       "      <td>1</td>\n",
       "      <td>0</td>\n",
       "      <td>0</td>\n",
       "      <td>0</td>\n",
       "      <td>1</td>\n",
       "      <td>0</td>\n",
       "    </tr>\n",
       "    <tr>\n",
       "      <th>3</th>\n",
       "      <td>33</td>\n",
       "      <td>22.705</td>\n",
       "      <td>0</td>\n",
       "      <td>21984.47061</td>\n",
       "      <td>0</td>\n",
       "      <td>1</td>\n",
       "      <td>1</td>\n",
       "      <td>0</td>\n",
       "      <td>0</td>\n",
       "      <td>1</td>\n",
       "      <td>0</td>\n",
       "      <td>0</td>\n",
       "    </tr>\n",
       "    <tr>\n",
       "      <th>4</th>\n",
       "      <td>32</td>\n",
       "      <td>28.880</td>\n",
       "      <td>0</td>\n",
       "      <td>3866.85520</td>\n",
       "      <td>0</td>\n",
       "      <td>1</td>\n",
       "      <td>1</td>\n",
       "      <td>0</td>\n",
       "      <td>0</td>\n",
       "      <td>1</td>\n",
       "      <td>0</td>\n",
       "      <td>0</td>\n",
       "    </tr>\n",
       "  </tbody>\n",
       "</table>\n",
       "</div>"
      ],
      "text/plain": [
       "   age     bmi  children      charges  sex_female  sex_male  smoker_no  \\\n",
       "0   19  27.900         0  16884.92400           1         0          0   \n",
       "1   18  33.770         1   1725.55230           0         1          1   \n",
       "2   28  33.000         3   4449.46200           0         1          1   \n",
       "3   33  22.705         0  21984.47061           0         1          1   \n",
       "4   32  28.880         0   3866.85520           0         1          1   \n",
       "\n",
       "   smoker_yes  region_northeast  region_northwest  region_southeast  \\\n",
       "0           1                 0                 0                 0   \n",
       "1           0                 0                 0                 1   \n",
       "2           0                 0                 0                 1   \n",
       "3           0                 0                 1                 0   \n",
       "4           0                 0                 1                 0   \n",
       "\n",
       "   region_southwest  \n",
       "0                 1  \n",
       "1                 0  \n",
       "2                 0  \n",
       "3                 0  \n",
       "4                 0  "
      ]
     },
     "execution_count": 91,
     "metadata": {},
     "output_type": "execute_result"
    }
   ],
   "source": [
    "# Turn all categories into numbers\n",
    "insurance_one_hot = pd.get_dummies(insurance)\n",
    "insurance_one_hot.head() # view the converted columns"
   ]
  },
  {
   "cell_type": "markdown",
   "metadata": {
    "id": "zOHoPzgqgZPq"
   },
   "source": [
    "Now we'll split data into features (`x`) and labels (`y`)."
   ]
  },
  {
   "cell_type": "code",
   "execution_count": 93,
   "metadata": {
    "id": "W_EGj3FxhkAb"
   },
   "outputs": [],
   "source": [
    "# Create x & y values\n",
    "x = insurance_one_hot.drop(\"charges\", axis=1)\n",
    "y = insurance_one_hot[\"charges\"]"
   ]
  },
  {
   "cell_type": "code",
   "execution_count": 97,
   "metadata": {
    "colab": {
     "base_uri": "https://localhost:8080/",
     "height": 215
    },
    "id": "-QQFJmDn5ATV",
    "outputId": "b02a4f32-1be8-4983-8741-d3d90d078cf1"
   },
   "outputs": [
    {
     "data": {
      "text/plain": [
       "((1338, 11), (1338,))"
      ]
     },
     "execution_count": 97,
     "metadata": {},
     "output_type": "execute_result"
    }
   ],
   "source": [
    "# View features\n",
    "x.shape, y.shape"
   ]
  },
  {
   "cell_type": "markdown",
   "metadata": {
    "id": "kudhkM-0giS1"
   },
   "source": [
    "And create training and test sets. We could do this manually, but to make it easier, we'll leverage the already available [`train_test_split`](https://scikit-learn.org/stable/modules/generated/sklearn.model_selection.train_test_split.html) function available from Scikit-Learn."
   ]
  },
  {
   "cell_type": "code",
   "execution_count": 98,
   "metadata": {
    "id": "WPGZGk0jhxCZ"
   },
   "outputs": [],
   "source": [
    "# Create training and test sets\n",
    "from sklearn.model_selection import train_test_split\n",
    "x_train, x_test, y_train, y_test = train_test_split(x, \n",
    "                                                    y, \n",
    "                                                    test_size=0.2, \n",
    "                                                    random_state=42) # set random state for reproducible splits"
   ]
  },
  {
   "cell_type": "markdown",
   "metadata": {
    "id": "W8wEC0FPglnN"
   },
   "source": [
    "Now we can build and fit a model. We will call it `tfmodel`"
   ]
  },
  {
   "cell_type": "code",
   "execution_count": 99,
   "metadata": {
    "colab": {
     "base_uri": "https://localhost:8080/"
    },
    "id": "OCXTmz6oh_T6",
    "outputId": "45cbcd81-05cc-481e-835e-d78922d74821"
   },
   "outputs": [
    {
     "name": "stdout",
     "output_type": "stream",
     "text": [
      "Epoch 1/50\n",
      "34/34 [==============================] - 1s 2ms/step - loss: 9007.9980 - mae: 9007.9980\n",
      "Epoch 2/50\n",
      "34/34 [==============================] - 0s 3ms/step - loss: 7836.0171 - mae: 7836.0171\n",
      "Epoch 3/50\n",
      "34/34 [==============================] - 0s 2ms/step - loss: 7611.3599 - mae: 7611.3599\n",
      "Epoch 4/50\n",
      "34/34 [==============================] - 0s 10ms/step - loss: 7667.2832 - mae: 7667.2832\n",
      "Epoch 5/50\n",
      "34/34 [==============================] - 0s 4ms/step - loss: 7716.3193 - mae: 7716.3193\n",
      "Epoch 6/50\n",
      "34/34 [==============================] - 0s 3ms/step - loss: 7645.2202 - mae: 7645.2202\n",
      "Epoch 7/50\n",
      "34/34 [==============================] - 0s 3ms/step - loss: 7521.3159 - mae: 7521.3159\n",
      "Epoch 8/50\n",
      "34/34 [==============================] - 0s 3ms/step - loss: 7684.5215 - mae: 7684.5215\n",
      "Epoch 9/50\n",
      "34/34 [==============================] - 0s 4ms/step - loss: 7488.3770 - mae: 7488.3770\n",
      "Epoch 10/50\n",
      "34/34 [==============================] - 0s 3ms/step - loss: 7714.0029 - mae: 7714.0029\n",
      "Epoch 11/50\n",
      "34/34 [==============================] - 0s 5ms/step - loss: 7506.0161 - mae: 7506.0161\n",
      "Epoch 12/50\n",
      "34/34 [==============================] - 0s 2ms/step - loss: 7553.9292 - mae: 7553.9292\n",
      "Epoch 13/50\n",
      "34/34 [==============================] - 0s 3ms/step - loss: 7631.1021 - mae: 7631.1021\n",
      "Epoch 14/50\n",
      "34/34 [==============================] - 0s 3ms/step - loss: 7762.3486 - mae: 7762.3486\n",
      "Epoch 15/50\n",
      "34/34 [==============================] - 0s 3ms/step - loss: 7661.6577 - mae: 7661.6577\n",
      "Epoch 16/50\n",
      "34/34 [==============================] - 0s 2ms/step - loss: 7685.1211 - mae: 7685.1211\n",
      "Epoch 17/50\n",
      "34/34 [==============================] - 0s 3ms/step - loss: 7507.8008 - mae: 7507.8008\n",
      "Epoch 18/50\n",
      "34/34 [==============================] - 0s 3ms/step - loss: 7666.0083 - mae: 7666.0083\n",
      "Epoch 19/50\n",
      "34/34 [==============================] - 0s 3ms/step - loss: 7806.3027 - mae: 7806.3027\n",
      "Epoch 20/50\n",
      "34/34 [==============================] - 0s 3ms/step - loss: 7816.0430 - mae: 7816.0430\n",
      "Epoch 21/50\n",
      "34/34 [==============================] - 0s 3ms/step - loss: 7491.7095 - mae: 7491.7095\n",
      "Epoch 22/50\n",
      "34/34 [==============================] - 0s 4ms/step - loss: 7759.9839 - mae: 7759.9839\n",
      "Epoch 23/50\n",
      "34/34 [==============================] - 0s 3ms/step - loss: 7727.2715 - mae: 7727.2715\n",
      "Epoch 24/50\n",
      "34/34 [==============================] - 0s 3ms/step - loss: 7550.0381 - mae: 7550.0381\n",
      "Epoch 25/50\n",
      "34/34 [==============================] - 0s 3ms/step - loss: 7751.9663 - mae: 7751.9663\n",
      "Epoch 26/50\n",
      "34/34 [==============================] - 0s 3ms/step - loss: 7690.4482 - mae: 7690.4482\n",
      "Epoch 27/50\n",
      "34/34 [==============================] - 0s 3ms/step - loss: 7534.8213 - mae: 7534.8213\n",
      "Epoch 28/50\n",
      "34/34 [==============================] - 0s 2ms/step - loss: 7522.1025 - mae: 7522.1025\n",
      "Epoch 29/50\n",
      "34/34 [==============================] - 0s 3ms/step - loss: 7626.0483 - mae: 7626.0483\n",
      "Epoch 30/50\n",
      "34/34 [==============================] - 0s 4ms/step - loss: 7600.4961 - mae: 7600.4961\n",
      "Epoch 31/50\n",
      "34/34 [==============================] - 0s 4ms/step - loss: 7688.3413 - mae: 7688.3413\n",
      "Epoch 32/50\n",
      "34/34 [==============================] - 0s 3ms/step - loss: 7427.1187 - mae: 7427.1187\n",
      "Epoch 33/50\n",
      "34/34 [==============================] - 0s 3ms/step - loss: 7441.0820 - mae: 7441.0820\n",
      "Epoch 34/50\n",
      "34/34 [==============================] - 0s 4ms/step - loss: 7475.8389 - mae: 7475.8389\n",
      "Epoch 35/50\n",
      "34/34 [==============================] - 0s 4ms/step - loss: 7464.3799 - mae: 7464.3799\n",
      "Epoch 36/50\n",
      "34/34 [==============================] - 0s 3ms/step - loss: 7523.7715 - mae: 7523.7715\n",
      "Epoch 37/50\n",
      "34/34 [==============================] - 0s 3ms/step - loss: 7457.2119 - mae: 7457.2119\n",
      "Epoch 38/50\n",
      "34/34 [==============================] - 0s 3ms/step - loss: 7540.0889 - mae: 7540.0889\n",
      "Epoch 39/50\n",
      "34/34 [==============================] - 0s 3ms/step - loss: 7536.3472 - mae: 7536.3472\n",
      "Epoch 40/50\n",
      "34/34 [==============================] - 0s 4ms/step - loss: 7458.0786 - mae: 7458.0786\n",
      "Epoch 41/50\n",
      "34/34 [==============================] - 0s 3ms/step - loss: 7724.9292 - mae: 7724.9292\n",
      "Epoch 42/50\n",
      "34/34 [==============================] - 0s 3ms/step - loss: 7398.3711 - mae: 7398.3711\n",
      "Epoch 43/50\n",
      "34/34 [==============================] - 0s 3ms/step - loss: 7467.9951 - mae: 7467.9951\n",
      "Epoch 44/50\n",
      "34/34 [==============================] - 0s 3ms/step - loss: 7498.0923 - mae: 7498.0923\n",
      "Epoch 45/50\n",
      "34/34 [==============================] - 0s 3ms/step - loss: 7502.3545 - mae: 7502.3545\n",
      "Epoch 46/50\n",
      "34/34 [==============================] - 0s 3ms/step - loss: 7388.0596 - mae: 7388.0596\n",
      "Epoch 47/50\n",
      "34/34 [==============================] - 0s 3ms/step - loss: 7545.7471 - mae: 7545.7471\n",
      "Epoch 48/50\n",
      "34/34 [==============================] - 0s 3ms/step - loss: 7482.9233 - mae: 7482.9233\n",
      "Epoch 49/50\n",
      "34/34 [==============================] - 0s 3ms/step - loss: 7553.7402 - mae: 7553.7402\n",
      "Epoch 50/50\n",
      "34/34 [==============================] - 0s 4ms/step - loss: 7500.9780 - mae: 7500.9780\n"
     ]
    },
    {
     "data": {
      "text/plain": [
       "<keras.callbacks.History at 0x7fc77ed529a0>"
      ]
     },
     "execution_count": 99,
     "metadata": {},
     "output_type": "execute_result"
    }
   ],
   "source": [
    "# Set random seed\n",
    "tf.random.set_seed(42)\n",
    "\n",
    "# Create a new model (same as model_2)\n",
    "tfmodel = tf.keras.Sequential([\n",
    "  tf.keras.layers.Dense(1),\n",
    "  tf.keras.layers.Dense(1)\n",
    "])\n",
    "\n",
    "# Compile the model\n",
    "tfmodel.compile(loss=tf.keras.losses.mae,\n",
    "                        optimizer=tf.keras.optimizers.SGD(),\n",
    "                        metrics=['mae'])\n",
    "\n",
    "# Fit the model\n",
    "tfmodel.fit(x_train, y_train, epochs=50)"
   ]
  },
  {
   "cell_type": "code",
   "execution_count": 101,
   "metadata": {
    "colab": {
     "base_uri": "https://localhost:8080/"
    },
    "id": "B1U7LqpKid0r",
    "outputId": "22ebc7ed-ca8e-4d0d-cc49-b061e6ef019c"
   },
   "outputs": [
    {
     "name": "stdout",
     "output_type": "stream",
     "text": [
      "9/9 [==============================] - 0s 3ms/step - loss: 8589.6152 - mae: 8589.6152\n"
     ]
    },
    {
     "data": {
      "text/plain": [
       "[8589.615234375, 8589.615234375]"
      ]
     },
     "execution_count": 101,
     "metadata": {},
     "output_type": "execute_result"
    }
   ],
   "source": [
    "# Check the results of the insurance model\n",
    "tfmodel.evaluate(x_test, y_test)"
   ]
  },
  {
   "cell_type": "markdown",
   "metadata": {},
   "source": [
    "This tells us that our predictions on average are off by $8590"
   ]
  },
  {
   "cell_type": "markdown",
   "metadata": {
    "id": "H9doNDToqDru"
   },
   "source": [
    "Can we improve? Let's try a bigger model.\n",
    "\n",
    "We'll try 3 things:\n",
    "- Increasing the number of layers (2 -> 3).\n",
    "- Increasing the number of units in each layer (except for the output layer).\n",
    "- Changing the optimizer (from SGD to Adam).\n",
    "\n",
    "Everything else will stay the same."
   ]
  },
  {
   "cell_type": "code",
   "execution_count": 102,
   "metadata": {
    "colab": {
     "base_uri": "https://localhost:8080/"
    },
    "id": "W59EqfqYimnR",
    "outputId": "6887bbaa-2e32-40d9-a76c-f2377e95a29b"
   },
   "outputs": [],
   "source": [
    "# Set random seed\n",
    "tf.random.set_seed(42)\n",
    "\n",
    "# Add an extra layer and increase number of units\n",
    "tfmodel_2 = tf.keras.Sequential([\n",
    "  tf.keras.layers.Dense(100), # 100 units\n",
    "  tf.keras.layers.Dense(10), # 10 units\n",
    "  tf.keras.layers.Dense(1) # 1 unit (important for output layer)\n",
    "])\n",
    "\n",
    "# Compile the model\n",
    "tfmodel_2.compile(loss=tf.keras.losses.mae,\n",
    "                          optimizer=tf.keras.optimizers.Adam(), # Adam works but SGD doesn't \n",
    "                          metrics=['mae'])\n",
    "\n",
    "# Fit the model and save the history (we can plot this)\n",
    "history = tfmodel_2.fit(x_train, y_train, epochs=100, verbose=0)"
   ]
  },
  {
   "cell_type": "code",
   "execution_count": 103,
   "metadata": {
    "colab": {
     "base_uri": "https://localhost:8080/"
    },
    "id": "k9IbYWnOqmoT",
    "outputId": "047ae48a-92bb-4bb6-d01f-893202f05dd2"
   },
   "outputs": [
    {
     "name": "stdout",
     "output_type": "stream",
     "text": [
      "9/9 [==============================] - 0s 3ms/step - loss: 5058.6069 - mae: 5058.6069\n"
     ]
    },
    {
     "data": {
      "text/plain": [
       "[5058.60693359375, 5058.60693359375]"
      ]
     },
     "execution_count": 103,
     "metadata": {},
     "output_type": "execute_result"
    }
   ],
   "source": [
    "# Evaluate our larger model\n",
    "tfmodel_2.evaluate(x_test, y_test)"
   ]
  },
  {
   "cell_type": "markdown",
   "metadata": {
    "id": "o9Rf3NosqriS"
   },
   "source": [
    "Much better! Using a larger model and the Adam optimizer results in almost half the error as the previous model.\n",
    "\n",
    "> **Note:**For many problems, the [Adam optimizer](https://www.tensorflow.org/api_docs/python/tf/keras/optimizers/Adam) is a great starting choice. See Andrei Karpathy's \"Adam is safe\" point from [*A Recipe for Training Neural Networks*](http://karpathy.github.io/2019/04/25/recipe/) for more. \n",
    "\n",
    "Let's check out the loss curves of our model, we should see a downward trend."
   ]
  },
  {
   "cell_type": "code",
   "execution_count": 104,
   "metadata": {
    "colab": {
     "base_uri": "https://localhost:8080/",
     "height": 279
    },
    "id": "9SE55ANojcF_",
    "outputId": "52ac970a-5f56-4711-a561-329d3a802bbd"
   },
   "outputs": [
    {
     "data": {
      "image/png": "[encoded data removed]",
      "text/plain": [
       "<Figure size 640x480 with 1 Axes>"
      ]
     },
     "metadata": {},
     "output_type": "display_data"
    }
   ],
   "source": [
    "# Plot history (also known as a loss curve)\n",
    "pd.DataFrame(history.history).plot()\n",
    "plt.ylabel(\"loss\")\n",
    "plt.xlabel(\"epochs\");"
   ]
  },
  {
   "cell_type": "markdown",
   "metadata": {
    "id": "ckHqtn0srQ5q"
   },
   "source": [
    "From this, it looks like our model's loss (and MAE) were both still decreasing (in our case, MAE and loss are the same, hence the lines in the plot overlap eachother).\n",
    "\n",
    "What this tells us is the loss might go down if we try training it for longer.\n",
    "\n",
    "> 🤔 **Question:** How long should you train for? \n",
    "\n",
    "> It depends on what problem you're working on. Sometimes training won't take very long, other times it'll take longer than you expect. A common method is to set your model training for a very long time (e.g. 1000's of epochs) but set it up with an [EarlyStopping callback](https://www.tensorflow.org/api_docs/python/tf/keras/callbacks/EarlyStopping) so it stops automatically when it stops improving. We'll see this in another module.\n",
    "\n",
    "Let's train the same model as above for a little longer. We can do this but calling fit on it again."
   ]
  },
  {
   "cell_type": "code",
   "execution_count": 105,
   "metadata": {
    "id": "Ucs62jV8jl6N"
   },
   "outputs": [],
   "source": [
    "# Try training for a little longer (100 more epochs)\n",
    "history_2 = tfmodel_2.fit(x_train, y_train, epochs=100, verbose=0) #verbose=0 revents from printing the status"
   ]
  },
  {
   "cell_type": "markdown",
   "metadata": {
    "id": "L2FZA1z1sxxs"
   },
   "source": [
    "How did the extra training go?"
   ]
  },
  {
   "cell_type": "code",
   "execution_count": 106,
   "metadata": {
    "colab": {
     "base_uri": "https://localhost:8080/"
    },
    "id": "cxtiYB3qs0PZ",
    "outputId": "8a110b4d-8d86-4345-99d3-aaad19d29830"
   },
   "outputs": [
    {
     "name": "stdout",
     "output_type": "stream",
     "text": [
      "9/9 [==============================] - 0s 2ms/step - loss: 3508.0488 - mae: 3508.0488\n"
     ]
    },
    {
     "data": {
      "text/plain": [
       "(3508.048828125, 3508.048828125)"
      ]
     },
     "execution_count": 106,
     "metadata": {},
     "output_type": "execute_result"
    }
   ],
   "source": [
    "# Evaluate the model trained for 200 total epochs\n",
    "tfmodel_2_loss, tfmodel_2_mae = tfmodel_2.evaluate(x_test, y_test)\n",
    "tfmodel_2_loss, tfmodel_2_mae"
   ]
  },
  {
   "cell_type": "markdown",
   "metadata": {
    "id": "MzUySYEOs-O_"
   },
   "source": [
    "Awesome! Training for an extra 100 epochs we see about a 10% decrease in error.\n",
    "\n",
    "How does the visual look?"
   ]
  },
  {
   "cell_type": "code",
   "execution_count": 107,
   "metadata": {
    "colab": {
     "base_uri": "https://localhost:8080/",
     "height": 279
    },
    "id": "BtYKSLeQjuzL",
    "outputId": "68e8d3c4-7252-40c4-e9e9-326a5a1df4cd"
   },
   "outputs": [
    {
     "data": {
      "image/png": "[encoded data removed]",
      "text/plain": [
       "<Figure size 640x480 with 1 Axes>"
      ]
     },
     "metadata": {},
     "output_type": "display_data"
    }
   ],
   "source": [
    "# Plot the model trained for 200 total epochs loss curves\n",
    "pd.DataFrame(history_2.history).plot()\n",
    "plt.ylabel(\"loss\")\n",
    "plt.xlabel(\"epochs\"); # note: epochs will only show 100 since we overrid the history variable"
   ]
  },
  {
   "cell_type": "markdown",
   "metadata": {
    "id": "HS8xYkvIuVZZ"
   },
   "source": [
    "## Preprocessing data (normalization and standardization)\n",
    "\n",
    "A common practice when working with neural networks is to make sure all of the data you pass to them is in the range 0 to 1.\n",
    "\n",
    "This practice is called **normalization** (scaling all values from their original range to, e.g. between 0 and 100,000 to be between 0 and 1).\n",
    "\n",
    "There is another process call **standardization** which converts all of your data to unit variance and 0 mean.\n",
    "\n",
    "These two practices are often part of a preprocessing pipeline (a series of functions to prepare your data for use with neural networks).\n",
    "\n",
    "Knowing this, some of the major steps you'll take to preprocess your data for a neural network include:\n",
    "* Turning all of your data to numbers (a neural network can't handle strings).\n",
    "* Making sure your data is in the right shape (verifying input and output shapes).\n",
    "* [**Feature scaling**](https://scikit-learn.org/stable/modules/preprocessing.html#preprocessing-scaler):\n",
    "    * Normalizing data (making sure all values are between 0 and 1). This is done by subtracting the minimum value then dividing by the maximum value minus the minmum. This is also referred to as min-max scaling.\n",
    "    * Standardization (making sure all values have a mean of 0 and a variance of 1). This is done by substracting the mean value from the target feature and then dividing it by the standard deviation.\n",
    "    * Which one should you use?\n",
    "      * **With neural networks you'll tend to favour normalization** as they tend to prefer values between 0 and 1 (you'll see this espcially with image processing), however, you'll often find a neural network can perform pretty well with minimal feature scaling.\n",
    "\n",
    "We've already turned our data into numbers using `get_dummies()`, let's see how we'd normalize it as well."
   ]
  },
  {
   "cell_type": "code",
   "execution_count": null,
   "metadata": {
    "id": "9v7P20A2d7H6"
   },
   "outputs": [],
   "source": [
    "import pandas as pd\n",
    "import matplotlib.pyplot as plt\n",
    "import tensorflow as tf\n",
    "\n",
    "# Read in the insurance dataset\n",
    "insurance = pd.read_csv(\"https://raw.githubusercontent.com/stedy/Machine-Learning-with-R-datasets/master/insurance.csv\")"
   ]
  },
  {
   "cell_type": "code",
   "execution_count": 108,
   "metadata": {
    "colab": {
     "base_uri": "https://localhost:8080/",
     "height": 195
    },
    "id": "vir8UAIwlUOo",
    "outputId": "f2b392b0-4e63-49a2-af35-248919293a21"
   },
   "outputs": [
    {
     "data": {
      "text/html": [
       "<div>\n",
       "<style scoped>\n",
       "    .dataframe tbody tr th:only-of-type {\n",
       "        vertical-align: middle;\n",
       "    }\n",
       "\n",
       "    .dataframe tbody tr th {\n",
       "        vertical-align: top;\n",
       "    }\n",
       "\n",
       "    .dataframe thead th {\n",
       "        text-align: right;\n",
       "    }\n",
       "</style>\n",
       "<table border=\"1\" class=\"dataframe\">\n",
       "  <thead>\n",
       "    <tr style=\"text-align: right;\">\n",
       "      <th></th>\n",
       "      <th>age</th>\n",
       "      <th>sex</th>\n",
       "      <th>bmi</th>\n",
       "      <th>children</th>\n",
       "      <th>smoker</th>\n",
       "      <th>region</th>\n",
       "      <th>charges</th>\n",
       "    </tr>\n",
       "  </thead>\n",
       "  <tbody>\n",
       "    <tr>\n",
       "      <th>0</th>\n",
       "      <td>19</td>\n",
       "      <td>female</td>\n",
       "      <td>27.900</td>\n",
       "      <td>0</td>\n",
       "      <td>yes</td>\n",
       "      <td>southwest</td>\n",
       "      <td>16884.92400</td>\n",
       "    </tr>\n",
       "    <tr>\n",
       "      <th>1</th>\n",
       "      <td>18</td>\n",
       "      <td>male</td>\n",
       "      <td>33.770</td>\n",
       "      <td>1</td>\n",
       "      <td>no</td>\n",
       "      <td>southeast</td>\n",
       "      <td>1725.55230</td>\n",
       "    </tr>\n",
       "    <tr>\n",
       "      <th>2</th>\n",
       "      <td>28</td>\n",
       "      <td>male</td>\n",
       "      <td>33.000</td>\n",
       "      <td>3</td>\n",
       "      <td>no</td>\n",
       "      <td>southeast</td>\n",
       "      <td>4449.46200</td>\n",
       "    </tr>\n",
       "    <tr>\n",
       "      <th>3</th>\n",
       "      <td>33</td>\n",
       "      <td>male</td>\n",
       "      <td>22.705</td>\n",
       "      <td>0</td>\n",
       "      <td>no</td>\n",
       "      <td>northwest</td>\n",
       "      <td>21984.47061</td>\n",
       "    </tr>\n",
       "    <tr>\n",
       "      <th>4</th>\n",
       "      <td>32</td>\n",
       "      <td>male</td>\n",
       "      <td>28.880</td>\n",
       "      <td>0</td>\n",
       "      <td>no</td>\n",
       "      <td>northwest</td>\n",
       "      <td>3866.85520</td>\n",
       "    </tr>\n",
       "  </tbody>\n",
       "</table>\n",
       "</div>"
      ],
      "text/plain": [
       "   age     sex     bmi  children smoker     region      charges\n",
       "0   19  female  27.900         0    yes  southwest  16884.92400\n",
       "1   18    male  33.770         1     no  southeast   1725.55230\n",
       "2   28    male  33.000         3     no  southeast   4449.46200\n",
       "3   33    male  22.705         0     no  northwest  21984.47061\n",
       "4   32    male  28.880         0     no  northwest   3866.85520"
      ]
     },
     "execution_count": 108,
     "metadata": {},
     "output_type": "execute_result"
    }
   ],
   "source": [
    "# Check out the data\n",
    "insurance.head()"
   ]
  },
  {
   "cell_type": "markdown",
   "metadata": {
    "id": "SHMQiNosg3J3"
   },
   "source": [
    "Now, just as before, we need to transform the non-numerical columns into numbers and this time we'll also be normalizing the numerical columns with different ranges (to make sure they're all between 0 and 1).\n",
    "\n",
    "To do this, we're going to use a few classes from Scikit-Learn:\n",
    "* [`make_column_transformer`](https://scikit-learn.org/stable/modules/generated/sklearn.compose.make_column_transformer.html) - build a multi-step data preprocessing function for the folllowing trnasformations:\n",
    "  * [`MinMaxScaler`](https://scikit-learn.org/stable/modules/generated/sklearn.preprocessing.MinMaxScaler.html) - make sure all numerical columns are normalized (between 0 and 1).\n",
    "  * [`OneHotEncoder`](https://scikit-learn.org/stable/modules/generated/sklearn.preprocessing.OneHotEncoder.html) - one hot encode the non-numerical columns.\n",
    "\n",
    "Let's see them in action."
   ]
  },
  {
   "cell_type": "code",
   "execution_count": 109,
   "metadata": {
    "id": "-x9JwbV0hqWh"
   },
   "outputs": [],
   "source": [
    "from sklearn.compose import make_column_transformer\n",
    "from sklearn.preprocessing import MinMaxScaler, OneHotEncoder\n",
    "\n",
    "# Create column transformer (this will help us normalize/preprocess our data)\n",
    "ct = make_column_transformer(\n",
    "    (MinMaxScaler(), [\"age\", \"bmi\", \"children\"]), # get all values between 0 and 1\n",
    "    (OneHotEncoder(handle_unknown=\"ignore\"), [\"sex\", \"smoker\", \"region\"])\n",
    ")\n",
    "\n",
    "# Create x & y\n",
    "x = insurance.drop(\"charges\", axis=1)\n",
    "y = insurance[\"charges\"]\n",
    "\n",
    "# Build our train and test sets (use random state to ensure same split as before)\n",
    "x_train, x_test, y_train, y_test = train_test_split(x, y, test_size=0.2, random_state=42)\n",
    "\n",
    "# Fit column transformer on the training data only (doing so on test data would result in data leakage)\n",
    "ct.fit(x_train)\n",
    "\n",
    "# Transform training and test data with normalization (MinMaxScalar) and one hot encoding (OneHotEncoder)\n",
    "x_train_normal = ct.transform(x_train)\n",
    "x_test_normal = ct.transform(x_test)"
   ]
  },
  {
   "cell_type": "markdown",
   "metadata": {
    "id": "Tz58y3nPiBJ-"
   },
   "source": [
    "Now we've normalized it and one-hot encoding it, what does our data look like now?"
   ]
  },
  {
   "cell_type": "code",
   "execution_count": 110,
   "metadata": {
    "colab": {
     "base_uri": "https://localhost:8080/"
    },
    "id": "VODt2YiziK45",
    "outputId": "0ffba739-63b8-4ccc-dcef-4b189c6162ee"
   },
   "outputs": [
    {
     "data": {
      "text/plain": [
       "age                19\n",
       "sex            female\n",
       "bmi              27.9\n",
       "children            0\n",
       "smoker            yes\n",
       "region      southwest\n",
       "Name: 0, dtype: object"
      ]
     },
     "execution_count": 110,
     "metadata": {},
     "output_type": "execute_result"
    }
   ],
   "source": [
    "# Non-normalized and non-one-hot encoded data example\n",
    "x_train.loc[0]"
   ]
  },
  {
   "cell_type": "code",
   "execution_count": 111,
   "metadata": {
    "colab": {
     "base_uri": "https://localhost:8080/"
    },
    "id": "mMYDXdwUnNVt",
    "outputId": "fb2ae984-9e0a-4cad-8475-c2ada4cfb7e6"
   },
   "outputs": [
    {
     "data": {
      "text/plain": [
       "array([0.60869565, 0.10734463, 0.4       , 1.        , 0.        ,\n",
       "       1.        , 0.        , 0.        , 1.        , 0.        ,\n",
       "       0.        ])"
      ]
     },
     "execution_count": 111,
     "metadata": {},
     "output_type": "execute_result"
    }
   ],
   "source": [
    "# Normalized and one-hot encoded example\n",
    "x_train_normal[0]"
   ]
  },
  {
   "cell_type": "markdown",
   "metadata": {
    "id": "9iI4KtfWib44"
   },
   "source": [
    "How about the shapes?"
   ]
  },
  {
   "cell_type": "code",
   "execution_count": 112,
   "metadata": {
    "colab": {
     "base_uri": "https://localhost:8080/"
    },
    "id": "SFmxzqrWntj7",
    "outputId": "739eed46-6edc-4487-820b-7c1317300161"
   },
   "outputs": [
    {
     "data": {
      "text/plain": [
       "((1070, 11), (1070, 6))"
      ]
     },
     "execution_count": 112,
     "metadata": {},
     "output_type": "execute_result"
    }
   ],
   "source": [
    "# Notice the normalized/one-hot encoded shape is larger because of the extra columns\n",
    "x_train_normal.shape, x_train.shape"
   ]
  },
  {
   "cell_type": "markdown",
   "metadata": {
    "id": "MST951aYijTS"
   },
   "source": [
    "Our data is normalized and numerical, let's model it.\n",
    "\n",
    "We'll use the same model as `insurance_model_2`."
   ]
  },
  {
   "cell_type": "code",
   "execution_count": 113,
   "metadata": {
    "colab": {
     "base_uri": "https://localhost:8080/"
    },
    "id": "TdHnIQqll83Y",
    "outputId": "cbebadf4-96e7-4353-edd5-d1b327f689e8"
   },
   "outputs": [
    {
     "data": {
      "text/plain": [
       "<keras.callbacks.History at 0x7fc77e5fd190>"
      ]
     },
     "execution_count": 113,
     "metadata": {},
     "output_type": "execute_result"
    }
   ],
   "source": [
    "# Set random seed\n",
    "tf.random.set_seed(42)\n",
    "\n",
    "# Build the model (3 layers, 100, 10, 1 units)\n",
    "tfmodel_3 = tf.keras.Sequential([\n",
    "  tf.keras.layers.Dense(100),\n",
    "  tf.keras.layers.Dense(10),\n",
    "  tf.keras.layers.Dense(1)\n",
    "])\n",
    "\n",
    "# Compile the model\n",
    "tfmodel_3.compile(loss=tf.keras.losses.mae,\n",
    "                          optimizer=tf.keras.optimizers.Adam(),\n",
    "                          metrics=['mae'])\n",
    "\n",
    "# Fit the model for 200 epochs (same as insurance_model_2)\n",
    "tfmodel_3.fit(x_train_normal, y_train, epochs=200, verbose=0) "
   ]
  },
  {
   "cell_type": "markdown",
   "metadata": {
    "id": "-DjwktO6jW41"
   },
   "source": [
    "Let's evaluate the model on normalized test set."
   ]
  },
  {
   "cell_type": "code",
   "execution_count": 114,
   "metadata": {
    "colab": {
     "base_uri": "https://localhost:8080/"
    },
    "id": "sBcXZu9AnZfP",
    "outputId": "4f815a32-198f-41df-8115-56b98beceec2"
   },
   "outputs": [
    {
     "name": "stdout",
     "output_type": "stream",
     "text": [
      "9/9 [==============================] - 0s 3ms/step - loss: 3167.5684 - mae: 3167.5684\n"
     ]
    }
   ],
   "source": [
    "# Evaulate 3rd model\n",
    "tfmodel_3_loss, tfmodel_3_mae = tfmodel_3.evaluate(x_test_normal, y_test)"
   ]
  },
  {
   "cell_type": "markdown",
   "metadata": {
    "id": "ZlHro290jhtX"
   },
   "source": [
    "And finally, let's compare the results from `insurance_model_2` (trained on non-normalized data) and `insurance_model_3` (trained on normalized data)."
   ]
  },
  {
   "cell_type": "code",
   "execution_count": 115,
   "metadata": {
    "colab": {
     "base_uri": "https://localhost:8080/"
    },
    "id": "ybZtnVlNjCJO",
    "outputId": "88ebc44b-da7b-42b2-823a-2a81384be0bf"
   },
   "outputs": [
    {
     "data": {
      "text/plain": [
       "(3508.048828125, 3167.568359375)"
      ]
     },
     "execution_count": 115,
     "metadata": {},
     "output_type": "execute_result"
    }
   ],
   "source": [
    "# Compare modelling results from non-normalized data and normalized data\n",
    "tfmodel_2_mae, tfmodel_3_mae"
   ]
  },
  {
   "cell_type": "markdown",
   "metadata": {
    "id": "gUttViY4jzi8"
   },
   "source": [
    "From this we can see normalizing the data results in 10% less error using the same model than not normalizing the data.\n",
    "\n",
    "This is **one of the main benefits of normalization: faster convergence time** (a fancy way of saying, your model gets to better results faster).\n",
    "\n",
    "`tfmodel_2` may have eventually achieved the same results as `tfmodel_3` if we left it training for longer. \n",
    "\n",
    "Also, the results may change if we were to alter the architectures of the models, e.g. more hidden units per layer or more layers.\n",
    "\n",
    "But since our main goal as neural network practioners is to decrease the time between experiments, anything that helps us get better results sooner is a plus."
   ]
  },
  {
   "cell_type": "markdown",
   "metadata": {
    "id": "NhIPO_KqocHP"
   },
   "source": [
    "# Exercise\n",
    "\n",
    "1. Import the [Boston pricing dataset](https://www.tensorflow.org/api_docs/python/tf/keras/datasets/boston_housing/load_data) from TensorFlow [`tf.keras.datasets`](https://www.tensorflow.org/api_docs/python/tf/keras/datasets) and model it.\n",
    "\n",
    "2. Try building a neural network with 4 Dense layers and fitting it to your own regression dataset, how does it perform?\n",
    "3. Try and improve the results we got on the insurance dataset, some things you might want to try include:\n",
    "  * Building a larger model (how does one with 4 dense layers go?).\n",
    "  * Increasing the number of units in each layer.\n",
    "  * Lookup the documentation of [Adam](https://www.tensorflow.org/api_docs/python/tf/keras/optimizers/Adam) and find out what the first parameter is, what happens if you increase it by 10x?\n",
    "  * What happens if you train for longer (say 300 epochs instead of 200)? "
   ]
  },
  {
   "cell_type": "code",
   "execution_count": null,
   "metadata": {},
   "outputs": [],
   "source": []
  }
 ],
 "metadata": {
  "colab": {
   "authorship_tag": "ABX9TyPPxw7R1uummSYz+4VGsQ+p",
   "collapsed_sections": [],
   "include_colab_link": true,
   "name": "01_neural_network_regression_in_tensorflow.ipynb",
   "provenance": [],
   "toc_visible": true
  },
  "kernelspec": {
   "display_name": "Python 3 (ipykernel)",
   "language": "python",
   "name": "python3"
  },
  "language_info": {
   "codemirror_mode": {
    "name": "ipython",
    "version": 3
   },
   "file_extension": ".py",
   "mimetype": "text/x-python",
   "name": "python",
   "nbconvert_exporter": "python",
   "pygments_lexer": "ipython3",
   "version": "3.9.13"
  }
 },
 "nbformat": 4,
 "nbformat_minor": 1
}
